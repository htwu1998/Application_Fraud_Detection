{
 "cells": [
  {
   "cell_type": "markdown",
   "id": "seasonal-feelings",
   "metadata": {
    "ExecuteTime": {
     "end_time": "2021-03-10T07:14:02.156104Z",
     "start_time": "2021-03-10T07:14:02.152398Z"
    }
   },
   "source": [
    "**Loading Libraries**"
   ]
  },
  {
   "cell_type": "code",
   "execution_count": 1,
   "id": "related-robert",
   "metadata": {
    "ExecuteTime": {
     "end_time": "2021-03-17T03:23:50.445714Z",
     "start_time": "2021-03-17T03:23:49.135832Z"
    }
   },
   "outputs": [
    {
     "name": "stdout",
     "output_type": "stream",
     "text": [
      "LOAD DURATION: 0:00:01.296221\n"
     ]
    }
   ],
   "source": [
    "# Load libraries\n",
    "import datetime as dt\n",
    "from datetime import datetime\n",
    "import time \n",
    "import calendar\n",
    "start_time = datetime.now()\n",
    "\n",
    "import pandas as pd\n",
    "import numpy as np\n",
    "import matplotlib.pyplot as plt\n",
    "import seaborn as sns\n",
    "%matplotlib inline\n",
    "\n",
    "import scipy.stats as sps\n",
    "import random\n",
    "\n",
    "print('LOAD DURATION:',datetime.now() - start_time)"
   ]
  },
  {
   "cell_type": "markdown",
   "id": "better-acceptance",
   "metadata": {},
   "source": [
    "**Load Data**"
   ]
  },
  {
   "cell_type": "code",
   "execution_count": 4,
   "id": "understood-syndrome",
   "metadata": {
    "ExecuteTime": {
     "end_time": "2021-03-17T03:25:31.432908Z",
     "start_time": "2021-03-17T03:24:58.086120Z"
    }
   },
   "outputs": [
    {
     "name": "stdout",
     "output_type": "stream",
     "text": [
      "CPU times: user 28.7 s, sys: 4.46 s, total: 33.1 s\n",
      "Wall time: 33.3 s\n"
     ]
    }
   ],
   "source": [
    "%%time\n",
    "df = pd.read_csv('candidate_var_hw7.csv', index_col=0)"
   ]
  },
  {
   "cell_type": "code",
   "execution_count": 5,
   "id": "greatest-earthquake",
   "metadata": {
    "ExecuteTime": {
     "end_time": "2021-03-17T03:25:35.543258Z",
     "start_time": "2021-03-17T03:25:31.435073Z"
    }
   },
   "outputs": [],
   "source": [
    "df['date'] = pd.to_datetime(df.date)\n",
    "\n",
    "df1 = df.copy()\n",
    "final = df.copy()\n",
    "\n",
    "df1['check_date'] = df1.date\n",
    "df1['check_record'] = df1.record"
   ]
  },
  {
   "cell_type": "code",
   "execution_count": 6,
   "id": "hollywood-stranger",
   "metadata": {
    "ExecuteTime": {
     "end_time": "2021-03-17T03:27:20.088354Z",
     "start_time": "2021-03-17T03:25:35.546018Z"
    }
   },
   "outputs": [
    {
     "name": "stdout",
     "output_type": "stream",
     "text": [
      "Run time for entity ssn in field address------------- 7.378212213516235s\n",
      "Run time for entity ssn in field homephone------------- 4.73783802986145s\n",
      "Run time for entity ssn in field name_dob------------- 5.363019704818726s\n",
      "Total run time: 0.2913571000099182min\n",
      "Run time for entity address in field ssn------------- 5.159642934799194s\n",
      "Run time for entity address in field homephone------------- 4.955261945724487s\n",
      "Run time for entity address in field name_dob------------- 5.405716180801392s\n",
      "Total run time: 0.5500397006670634min\n",
      "Run time for entity homephone in field ssn------------- 19.802448749542236s\n",
      "Run time for entity homephone in field address------------- 18.062894105911255s\n",
      "Run time for entity homephone in field name_dob------------- 17.94045901298523s\n",
      "Total run time: 1.4801429152488708min\n",
      "Run time for entity name_dob in field ssn------------- 5.712926149368286s\n",
      "Run time for entity name_dob in field address------------- 5.380512952804565s\n",
      "Run time for entity name_dob in field homephone------------- 4.6312713623046875s\n",
      "Total run time: 1.7422269821166991min\n"
     ]
    }
   ],
   "source": [
    "attributes=['ssn','address','homephone','name_dob']\n",
    "\n",
    "\n",
    "begin = time.time()\n",
    "for entity in attributes:\n",
    "    for field in attributes:\n",
    "        st = time.time()\n",
    "        if field == entity:\n",
    "            continue\n",
    "        else:\n",
    "            df_c = df1[['record', 'date', entity]]\n",
    "            df_d = df1[['check_record', 'check_date', entity,field]]\n",
    "            temp = pd.merge(df_c, df_d, left_on=entity, right_on=entity)\n",
    "\n",
    "        # number of unique for particular field\n",
    "        for offset_t in [1, 3, 7, 14, 30]:\n",
    "            count_day_df = temp[(temp.check_date >= (temp.date - dt.timedelta(offset_t)))\n",
    "                                & (temp.record >= temp.check_record)]\n",
    "            col_name = f'{entity}_unique_count_for_{field}_{offset_t}'\n",
    "            mapper = count_day_df.groupby(['record'])[field].nunique()\n",
    "            final[col_name] = final.record.map(mapper)\n",
    "\n",
    "        print(f'Run time for entity {entity} in field {field}------------- {time.time() - st}s')\n",
    "\n",
    "    print(f'Total run time: {(time.time() - begin) / 60}min')"
   ]
  },
  {
   "cell_type": "code",
   "execution_count": 7,
   "id": "funky-singer",
   "metadata": {
    "ExecuteTime": {
     "end_time": "2021-03-17T04:06:29.284580Z",
     "start_time": "2021-03-17T04:03:25.494715Z"
    }
   },
   "outputs": [],
   "source": [
    "final.to_csv('400_var.csv')"
   ]
  },
  {
   "cell_type": "code",
   "execution_count": 5,
   "id": "casual-equipment",
   "metadata": {
    "ExecuteTime": {
     "end_time": "2021-03-11T05:25:17.412200Z",
     "start_time": "2021-03-11T05:25:11.992093Z"
    }
   },
   "outputs": [],
   "source": [
    "# add a random variable\n",
    "randomlist = []\n",
    "for i in range(1000000):\n",
    "    n = random.randint(1,10)\n",
    "    randomlist.append(n)\n",
    "\n",
    "final['random_var'] = randomlist\n",
    "\n",
    "final = final.drop(columns=['record'])"
   ]
  },
  {
   "cell_type": "code",
   "execution_count": 6,
   "id": "gentle-application",
   "metadata": {
    "ExecuteTime": {
     "end_time": "2021-03-11T05:25:19.228590Z",
     "start_time": "2021-03-11T05:25:17.413918Z"
    }
   },
   "outputs": [
    {
     "name": "stdout",
     "output_type": "stream",
     "text": [
      "CPU times: user 968 ms, sys: 846 ms, total: 1.81 s\n",
      "Wall time: 1.81 s\n"
     ]
    }
   ],
   "source": [
    "%%time\n",
    "# create oot train_test data\n",
    "train_test = final[(final.date > '2016-01-14')&(final.date < '2016-11-01')]"
   ]
  },
  {
   "cell_type": "code",
   "execution_count": 7,
   "id": "informal-tissue",
   "metadata": {
    "ExecuteTime": {
     "end_time": "2021-03-11T05:25:19.235514Z",
     "start_time": "2021-03-11T05:25:19.230001Z"
    }
   },
   "outputs": [],
   "source": [
    "# create the output dataframe\n",
    "KSFDR = pd.DataFrame(final.columns, columns=['Variable'])\n",
    "\n",
    "KSFDR.reset_index(inplace=True)\n",
    "KSFDR.rename(columns={\"index\":\"Variable Number\"}, inplace=True)"
   ]
  },
  {
   "cell_type": "code",
   "execution_count": 8,
   "id": "isolated-agency",
   "metadata": {
    "ExecuteTime": {
     "end_time": "2021-03-11T05:25:23.508771Z",
     "start_time": "2021-03-11T05:25:19.238280Z"
    }
   },
   "outputs": [],
   "source": [
    "# separate the good and bad\n",
    "goods = train_test[train_test.fraud_label == 0].copy()\n",
    "bads = train_test[train_test.fraud_label == 1].copy()"
   ]
  },
  {
   "cell_type": "code",
   "execution_count": 9,
   "id": "touched-toronto",
   "metadata": {
    "ExecuteTime": {
     "end_time": "2021-03-11T05:26:48.268728Z",
     "start_time": "2021-03-11T05:25:23.511077Z"
    }
   },
   "outputs": [],
   "source": [
    "# calculate the KS score\n",
    "KSFDR['ks'] = np.NaN\n",
    "cols = train_test.columns\n",
    "\n",
    "i = 0\n",
    "for column in cols:\n",
    "    KSFDR.loc[i,'ks'] = sps.ks_2samp(goods[column],bads[column])[0]\n",
    "    i = i+1"
   ]
  },
  {
   "cell_type": "code",
   "execution_count": 10,
   "id": "limited-harvard",
   "metadata": {
    "ExecuteTime": {
     "end_time": "2021-03-11T05:26:48.275669Z",
     "start_time": "2021-03-11T05:26:48.270021Z"
    }
   },
   "outputs": [],
   "source": [
    "KSFDR['rank_ks'] = KSFDR['ks'].rank(ascending = True)\n",
    "KSFDR.sort_values(by=['rank_ks'], ascending=False, inplace=True)"
   ]
  },
  {
   "cell_type": "code",
   "execution_count": 48,
   "id": "naval-bahamas",
   "metadata": {
    "ExecuteTime": {
     "end_time": "2021-03-11T05:58:26.805760Z",
     "start_time": "2021-03-11T05:58:26.803005Z"
    }
   },
   "outputs": [],
   "source": [
    "KSFDR.reset_index(drop=True, inplace=True)"
   ]
  },
  {
   "cell_type": "code",
   "execution_count": 51,
   "id": "broke-zealand",
   "metadata": {
    "ExecuteTime": {
     "end_time": "2021-03-11T05:59:43.615471Z",
     "start_time": "2021-03-11T05:58:54.103512Z"
    }
   },
   "outputs": [],
   "source": [
    "# calculate FDR @3%\n",
    "KSFDR['FDR'] = np.NaN\n",
    "listvars = list(KSFDR[\"Variable\"])\n",
    "listvars = listvars[1:]\n",
    "\n",
    "j = 1\n",
    "topRows = int(round(len(train_test)*0.03))\n",
    "numbads = len(train_test[train_test.fraud_label==1])\n",
    "\n",
    "for column in listvars:\n",
    "    temp = train_test[[column,'fraud_label']].copy() \n",
    "    temp0 = temp.sort_values(column,ascending=False)\n",
    "    temp1 = temp0.head(topRows)\n",
    "    temp2 = temp0.tail(topRows)\n",
    "    needed1 = temp1.loc[:,'fraud_label']\n",
    "    needed2 = temp2.loc[:,'fraud_label']\n",
    "    FDR1 = sum(needed1)/numbads\n",
    "    FDR2 = sum(needed2)/numbads\n",
    "    FDRate = np.maximum(FDR1,FDR2)\n",
    "    KSFDR.loc[j, 'FDR'] = FDRate\n",
    "    j = j + 1"
   ]
  },
  {
   "cell_type": "code",
   "execution_count": 53,
   "id": "representative-synthetic",
   "metadata": {
    "ExecuteTime": {
     "end_time": "2021-03-11T06:06:23.185309Z",
     "start_time": "2021-03-11T06:06:23.182107Z"
    }
   },
   "outputs": [],
   "source": [
    "KSFDR.loc[0, 'FDR'] = 1"
   ]
  },
  {
   "cell_type": "code",
   "execution_count": 59,
   "id": "divided-cholesterol",
   "metadata": {
    "ExecuteTime": {
     "end_time": "2021-03-11T06:11:40.153887Z",
     "start_time": "2021-03-11T06:11:40.149967Z"
    }
   },
   "outputs": [],
   "source": [
    "KSFDR['rank_FDR'] = KSFDR['FDR'].rank(ascending = True)"
   ]
  },
  {
   "cell_type": "code",
   "execution_count": 63,
   "id": "contained-nashville",
   "metadata": {
    "ExecuteTime": {
     "end_time": "2021-03-11T06:12:58.109023Z",
     "start_time": "2021-03-11T06:12:58.104054Z"
    }
   },
   "outputs": [],
   "source": [
    "KSFDR['average_rank'] = (KSFDR['rank_ks'] + KSFDR['rank_FDR']) / 2\n",
    "KSFDR.sort_values(by=['average_rank'], ascending=False, inplace=True)\n",
    "KSFDR.reset_index(drop=True, inplace=True)"
   ]
  },
  {
   "cell_type": "code",
   "execution_count": 64,
   "id": "jewish-tactics",
   "metadata": {
    "ExecuteTime": {
     "end_time": "2021-03-11T06:12:58.771039Z",
     "start_time": "2021-03-11T06:12:58.756873Z"
    }
   },
   "outputs": [
    {
     "data": {
      "text/html": [
       "<div>\n",
       "<style scoped>\n",
       "    .dataframe tbody tr th:only-of-type {\n",
       "        vertical-align: middle;\n",
       "    }\n",
       "\n",
       "    .dataframe tbody tr th {\n",
       "        vertical-align: top;\n",
       "    }\n",
       "\n",
       "    .dataframe thead th {\n",
       "        text-align: right;\n",
       "    }\n",
       "</style>\n",
       "<table border=\"1\" class=\"dataframe\">\n",
       "  <thead>\n",
       "    <tr style=\"text-align: right;\">\n",
       "      <th></th>\n",
       "      <th>Variable Number</th>\n",
       "      <th>Variable</th>\n",
       "      <th>ks</th>\n",
       "      <th>rank_ks</th>\n",
       "      <th>FDR</th>\n",
       "      <th>rank_FDR</th>\n",
       "      <th>average_rank</th>\n",
       "    </tr>\n",
       "  </thead>\n",
       "  <tbody>\n",
       "    <tr>\n",
       "      <th>0</th>\n",
       "      <td>8</td>\n",
       "      <td>fraud_label</td>\n",
       "      <td>1.000000</td>\n",
       "      <td>420.0</td>\n",
       "      <td>1.000000</td>\n",
       "      <td>420.0</td>\n",
       "      <td>420.00</td>\n",
       "    </tr>\n",
       "    <tr>\n",
       "      <th>1</th>\n",
       "      <td>36</td>\n",
       "      <td>address_day_since</td>\n",
       "      <td>0.334096</td>\n",
       "      <td>419.0</td>\n",
       "      <td>0.355302</td>\n",
       "      <td>418.0</td>\n",
       "      <td>418.50</td>\n",
       "    </tr>\n",
       "    <tr>\n",
       "      <th>2</th>\n",
       "      <td>64</td>\n",
       "      <td>fulladdress_day_since</td>\n",
       "      <td>0.333210</td>\n",
       "      <td>418.0</td>\n",
       "      <td>0.358349</td>\n",
       "      <td>419.0</td>\n",
       "      <td>418.50</td>\n",
       "    </tr>\n",
       "    <tr>\n",
       "      <th>3</th>\n",
       "      <td>42</td>\n",
       "      <td>address_count_30</td>\n",
       "      <td>0.332725</td>\n",
       "      <td>417.0</td>\n",
       "      <td>0.353300</td>\n",
       "      <td>416.0</td>\n",
       "      <td>416.50</td>\n",
       "    </tr>\n",
       "    <tr>\n",
       "      <th>4</th>\n",
       "      <td>70</td>\n",
       "      <td>fulladdress_count_30</td>\n",
       "      <td>0.332032</td>\n",
       "      <td>416.0</td>\n",
       "      <td>0.354954</td>\n",
       "      <td>417.0</td>\n",
       "      <td>416.50</td>\n",
       "    </tr>\n",
       "    <tr>\n",
       "      <th>...</th>\n",
       "      <td>...</td>\n",
       "      <td>...</td>\n",
       "      <td>...</td>\n",
       "      <td>...</td>\n",
       "      <td>...</td>\n",
       "      <td>...</td>\n",
       "      <td>...</td>\n",
       "    </tr>\n",
       "    <tr>\n",
       "      <th>415</th>\n",
       "      <td>372</td>\n",
       "      <td>ssn_unique_count_for_name_dob_14</td>\n",
       "      <td>0.000995</td>\n",
       "      <td>6.0</td>\n",
       "      <td>0.033432</td>\n",
       "      <td>25.5</td>\n",
       "      <td>15.75</td>\n",
       "    </tr>\n",
       "    <tr>\n",
       "      <th>416</th>\n",
       "      <td>371</td>\n",
       "      <td>ssn_unique_count_for_name_dob_7</td>\n",
       "      <td>0.000573</td>\n",
       "      <td>4.0</td>\n",
       "      <td>0.033606</td>\n",
       "      <td>27.0</td>\n",
       "      <td>15.50</td>\n",
       "    </tr>\n",
       "    <tr>\n",
       "      <th>417</th>\n",
       "      <td>369</td>\n",
       "      <td>ssn_unique_count_for_name_dob_1</td>\n",
       "      <td>0.000203</td>\n",
       "      <td>1.0</td>\n",
       "      <td>0.033432</td>\n",
       "      <td>25.5</td>\n",
       "      <td>13.25</td>\n",
       "    </tr>\n",
       "    <tr>\n",
       "      <th>418</th>\n",
       "      <td>370</td>\n",
       "      <td>ssn_unique_count_for_name_dob_3</td>\n",
       "      <td>0.000287</td>\n",
       "      <td>3.0</td>\n",
       "      <td>0.033258</td>\n",
       "      <td>23.0</td>\n",
       "      <td>13.00</td>\n",
       "    </tr>\n",
       "    <tr>\n",
       "      <th>419</th>\n",
       "      <td>404</td>\n",
       "      <td>name_dob_unique_count_for_ssn_1</td>\n",
       "      <td>0.000250</td>\n",
       "      <td>2.0</td>\n",
       "      <td>0.033345</td>\n",
       "      <td>24.0</td>\n",
       "      <td>13.00</td>\n",
       "    </tr>\n",
       "  </tbody>\n",
       "</table>\n",
       "<p>420 rows × 7 columns</p>\n",
       "</div>"
      ],
      "text/plain": [
       "     Variable Number                          Variable        ks  rank_ks  \\\n",
       "0                  8                       fraud_label  1.000000    420.0   \n",
       "1                 36                 address_day_since  0.334096    419.0   \n",
       "2                 64             fulladdress_day_since  0.333210    418.0   \n",
       "3                 42                  address_count_30  0.332725    417.0   \n",
       "4                 70              fulladdress_count_30  0.332032    416.0   \n",
       "..               ...                               ...       ...      ...   \n",
       "415              372  ssn_unique_count_for_name_dob_14  0.000995      6.0   \n",
       "416              371   ssn_unique_count_for_name_dob_7  0.000573      4.0   \n",
       "417              369   ssn_unique_count_for_name_dob_1  0.000203      1.0   \n",
       "418              370   ssn_unique_count_for_name_dob_3  0.000287      3.0   \n",
       "419              404   name_dob_unique_count_for_ssn_1  0.000250      2.0   \n",
       "\n",
       "          FDR  rank_FDR  average_rank  \n",
       "0    1.000000     420.0        420.00  \n",
       "1    0.355302     418.0        418.50  \n",
       "2    0.358349     419.0        418.50  \n",
       "3    0.353300     416.0        416.50  \n",
       "4    0.354954     417.0        416.50  \n",
       "..        ...       ...           ...  \n",
       "415  0.033432      25.5         15.75  \n",
       "416  0.033606      27.0         15.50  \n",
       "417  0.033432      25.5         13.25  \n",
       "418  0.033258      23.0         13.00  \n",
       "419  0.033345      24.0         13.00  \n",
       "\n",
       "[420 rows x 7 columns]"
      ]
     },
     "execution_count": 64,
     "metadata": {},
     "output_type": "execute_result"
    }
   ],
   "source": [
    "KSFDR"
   ]
  },
  {
   "cell_type": "code",
   "execution_count": 65,
   "id": "current-abuse",
   "metadata": {
    "ExecuteTime": {
     "end_time": "2021-03-11T06:21:14.496250Z",
     "start_time": "2021-03-11T06:21:14.359029Z"
    }
   },
   "outputs": [],
   "source": [
    "# KSFDR.to_excel('ksfdr_score_ranked.xlsx')"
   ]
  }
 ],
 "metadata": {
  "kernelspec": {
   "display_name": "Python 3",
   "language": "python",
   "name": "python3"
  },
  "language_info": {
   "codemirror_mode": {
    "name": "ipython",
    "version": 3
   },
   "file_extension": ".py",
   "mimetype": "text/x-python",
   "name": "python",
   "nbconvert_exporter": "python",
   "pygments_lexer": "ipython3",
   "version": "3.8.3"
  }
 },
 "nbformat": 4,
 "nbformat_minor": 5
}
