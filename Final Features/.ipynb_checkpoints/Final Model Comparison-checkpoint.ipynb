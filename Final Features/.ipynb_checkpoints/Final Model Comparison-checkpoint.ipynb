{
 "cells": [
  {
   "cell_type": "markdown",
   "id": "lovely-enemy",
   "metadata": {},
   "source": [
    "### Load Libraries"
   ]
  },
  {
   "cell_type": "code",
   "execution_count": 11,
   "id": "chicken-skiing",
   "metadata": {
    "ExecuteTime": {
     "end_time": "2021-03-23T21:13:14.401086Z",
     "start_time": "2021-03-23T21:13:14.385038Z"
    }
   },
   "outputs": [
    {
     "name": "stdout",
     "output_type": "stream",
     "text": [
      "LOAD DURATION: 0:00:00.005774\n"
     ]
    }
   ],
   "source": [
    "# Load libraries\n",
    "import datetime as dt\n",
    "from datetime import datetime\n",
    "import time \n",
    "import calendar\n",
    "start_time = datetime.now()\n",
    "\n",
    "import pandas as pd\n",
    "import numpy as np\n",
    "import matplotlib.pyplot as plt\n",
    "import seaborn as sns\n",
    "%matplotlib inline\n",
    "\n",
    "import scipy.stats as sps\n",
    "import random\n",
    "\n",
    "from sklearn.model_selection import train_test_split\n",
    "from sklearn.linear_model import LogisticRegression\n",
    "from sklearn.linear_model import LogisticRegressionCV\n",
    "from sklearn.feature_selection import RFECV\n",
    "from sklearn.model_selection import KFold\n",
    "\n",
    "from sklearn.tree import DecisionTreeClassifier\n",
    "from sklearn.ensemble import RandomForestClassifier\n",
    "from sklearn.ensemble import GradientBoostingClassifier\n",
    "from sklearn.neural_network import MLPClassifier\n",
    "from sklearn.neighbors import KNeighborsClassifier\n",
    "from sklearn.svm import SVC\n",
    "from sklearn.naive_bayes import GaussianNB\n",
    "\n",
    "from sklearn.ensemble import StackingClassifier\n",
    "\n",
    "import keras\n",
    "\n",
    "import math\n",
    "\n",
    "print('LOAD DURATION:',datetime.now() - start_time)"
   ]
  },
  {
   "cell_type": "code",
   "execution_count": 2,
   "id": "reduced-process",
   "metadata": {
    "ExecuteTime": {
     "end_time": "2021-03-22T23:13:36.403732Z",
     "start_time": "2021-03-22T23:13:34.841555Z"
    }
   },
   "outputs": [
    {
     "name": "stdout",
     "output_type": "stream",
     "text": [
      "CPU times: user 1.33 s, sys: 227 ms, total: 1.56 s\n",
      "Wall time: 1.56 s\n"
     ]
    }
   ],
   "source": [
    "%%time\n",
    "# load the data\n",
    "df = pd.read_csv('train_test.csv')\n",
    "oot = pd.read_csv('oot.csv')"
   ]
  },
  {
   "cell_type": "code",
   "execution_count": 7,
   "id": "seventh-member",
   "metadata": {
    "ExecuteTime": {
     "end_time": "2021-03-22T23:18:10.962664Z",
     "start_time": "2021-03-22T23:18:10.819767Z"
    }
   },
   "outputs": [],
   "source": [
    "X = df.drop(columns=['fraud_label'])\n",
    "y = df['fraud_label']\n",
    "\n",
    "oot_x = oot.drop(columns=['fraud_label'])\n",
    "oot_y = oot['fraud_label']"
   ]
  },
  {
   "cell_type": "markdown",
   "id": "threaded-emergency",
   "metadata": {},
   "source": [
    "**FDR Function**"
   ]
  },
  {
   "cell_type": "code",
   "execution_count": 4,
   "id": "civilian-voltage",
   "metadata": {
    "ExecuteTime": {
     "end_time": "2021-03-22T23:13:36.541917Z",
     "start_time": "2021-03-22T23:13:36.536913Z"
    }
   },
   "outputs": [],
   "source": [
    "# create functions to calculate fdr\n",
    "def fdr_cal(x_data, y_data, model_choice):\n",
    "    model = model_choice\n",
    "    pop = int(round(len(x_data)*0.03))\n",
    "    result = pd.DataFrame(model.predict_proba(x_data),columns=['prob_0', 'prob_1'])\n",
    "    temp = x_data.copy()\n",
    "    temp['fraud_label'] = y_data\n",
    "    temp['prob_1']= list(result.prob_1)\n",
    "    temp0 = temp.sort_values('prob_1', ascending=False)\n",
    "    temp1 = temp0.head(pop)\n",
    "    fdr = temp1.fraud_label.sum() / y_data.sum()\n",
    "    \n",
    "    return fdr"
   ]
  },
  {
   "cell_type": "markdown",
   "id": "american-pension",
   "metadata": {},
   "source": [
    "**GradientBoosting Model Tuning**"
   ]
  },
  {
   "cell_type": "code",
   "execution_count": null,
   "id": "naval-flower",
   "metadata": {
    "ExecuteTime": {
     "end_time": "2021-03-21T06:44:38.141565Z",
     "start_time": "2021-03-21T06:44:38.116576Z"
    }
   },
   "outputs": [],
   "source": [
    "# create a table to store the data\n",
    "gbm_table = pd.DataFrame()\n",
    "num_tree = [1000,1500,1800]\n",
    "max_depth = 5\n",
    "learn_rate = [0.02,0.05]\n",
    "max_feature = 5\n",
    "min_samples_leaf = 30\n",
    "min_samples_split = [500, 1500]\n",
    "\n",
    "i=0\n",
    "for lr in learn_rate:\n",
    "        for num in num_tree:\n",
    "            for mss in min_samples_split:\n",
    "                gbm_table.loc[i,'n_estimators'] = num\n",
    "                gbm_table.loc[i,'learning_rate'] = lr\n",
    "                gbm_table.loc[i,'max_depth'] = max_depth\n",
    "                gbm_table.loc[i,'max_feature'] = max_feature\n",
    "                gbm_table.loc[i,'min_samples_leaf'] = min_samples_leaf\n",
    "                gbm_table.loc[i,'min_samples_split'] = mss\n",
    "                i+=1\n",
    "\n",
    "\n",
    "\n",
    "gbm_table['Train'] = 0.000\n",
    "gbm_table['Test'] = 0.000\n",
    "gbm_table['OOT'] = 0.000"
   ]
  },
  {
   "cell_type": "code",
   "execution_count": null,
   "id": "duplicate-duplicate",
   "metadata": {
    "ExecuteTime": {
     "end_time": "2021-03-21T06:44:40.902295Z",
     "start_time": "2021-03-21T06:44:40.884041Z"
    }
   },
   "outputs": [],
   "source": [
    "gbm_table"
   ]
  },
  {
   "cell_type": "code",
   "execution_count": null,
   "id": "technological-riverside",
   "metadata": {
    "ExecuteTime": {
     "end_time": "2021-03-21T18:18:09.456845Z",
     "start_time": "2021-03-21T06:44:41.057747Z"
    }
   },
   "outputs": [],
   "source": [
    "# create a for loop to calculate all GBM FDR@3%\n",
    "\n",
    "# using KFold\n",
    "n_choice = 10\n",
    "kf = KFold(n_splits=n_choice)\n",
    "\n",
    "\n",
    "num_tree = [1000,1500,1800]\n",
    "max_depth = 5\n",
    "learn_rate = [0.02,0.05]\n",
    "max_feature = 5\n",
    "min_samples_leaf = 30\n",
    "min_samples_split = [500, 1500]\n",
    "\n",
    "i=0\n",
    "for lr in learn_rate:\n",
    "        for num in num_tree:\n",
    "            for mss in min_samples_split:\n",
    "                for train_index, test_index in kf.split(X):\n",
    "                    X_train, X_test = X.iloc[train_index,:], X.iloc[test_index,:]\n",
    "                    y_train, y_test = y.iloc[train_index, :].values.ravel(), y.iloc[test_index, :].values.ravel()\n",
    "\n",
    "                    gbm = GradientBoostingClassifier(learning_rate=lr, n_estimators =num,\n",
    "                                                     max_depth=max_depth, max_features=max_feature,\n",
    "                                                     min_samples_split=mss, \n",
    "                                                     min_samples_leaf=min_samples_leaf)\n",
    "                    gbm.fit(X_train,y_train)\n",
    "\n",
    "                    gbm_table.loc[(gbm_table['n_estimators']==num)\\\n",
    "                                  &(gbm_table['learning_rate']==lr)\\\n",
    "                                  &(gbm_table['min_samples_split']==mss)\\\n",
    "                                  ,'Train'] += fdr_cal(X_train, y_train, gbm)\n",
    "                    gbm_table.loc[(gbm_table['n_estimators']==num)\\\n",
    "                                  &(gbm_table['learning_rate']==lr)\\\n",
    "                                  &(gbm_table['min_samples_split']==mss)\\\n",
    "                                  ,'Test'] += fdr_cal(X_test, y_test, gbm)\n",
    "                    gbm_table.loc[(gbm_table['n_estimators']==num)\\\n",
    "                                  &(gbm_table['learning_rate']==lr)\\\n",
    "                                  &(gbm_table['min_samples_split']==mss)\\\n",
    "                                  ,'OOT'] += fdr_cal(oot_x, oot_y, gbm)\n",
    "                    i+=1\n",
    "                    print(f'Iteration {i} is completed.')"
   ]
  },
  {
   "cell_type": "code",
   "execution_count": null,
   "id": "brief-holocaust",
   "metadata": {
    "ExecuteTime": {
     "end_time": "2021-03-21T18:18:09.600408Z",
     "start_time": "2021-03-21T18:18:09.459757Z"
    }
   },
   "outputs": [],
   "source": [
    "# save results\n",
    "gbm_table.to_excel('gbm_table_results_1.xlsx')"
   ]
  },
  {
   "cell_type": "code",
   "execution_count": null,
   "id": "dietary-spare",
   "metadata": {
    "ExecuteTime": {
     "end_time": "2021-03-21T19:16:10.783781Z",
     "start_time": "2021-03-21T19:16:10.779898Z"
    }
   },
   "outputs": [],
   "source": [
    "for col in ['Train','Test','OOT']:\n",
    "    gbm_table[col] = gbm_table[col]/n_choice"
   ]
  },
  {
   "cell_type": "code",
   "execution_count": null,
   "id": "prospective-correction",
   "metadata": {
    "ExecuteTime": {
     "end_time": "2021-03-21T19:16:12.849710Z",
     "start_time": "2021-03-21T19:16:12.837190Z"
    }
   },
   "outputs": [],
   "source": [
    "gbm_table.to_excel('gbm_table_results_2.xlsx')"
   ]
  },
  {
   "cell_type": "code",
   "execution_count": null,
   "id": "alleged-honduras",
   "metadata": {
    "ExecuteTime": {
     "end_time": "2021-03-21T19:16:13.713441Z",
     "start_time": "2021-03-21T19:16:13.709917Z"
    }
   },
   "outputs": [],
   "source": [
    "top10 = gbm_table.sort_values('OOT', ascending=False)[:10]"
   ]
  },
  {
   "cell_type": "code",
   "execution_count": null,
   "id": "stunning-harmony",
   "metadata": {
    "ExecuteTime": {
     "end_time": "2021-03-21T19:16:14.200626Z",
     "start_time": "2021-03-21T19:16:14.190212Z"
    }
   },
   "outputs": [],
   "source": [
    "top10"
   ]
  },
  {
   "cell_type": "code",
   "execution_count": null,
   "id": "centered-complement",
   "metadata": {
    "ExecuteTime": {
     "end_time": "2021-03-21T19:25:45.347655Z",
     "start_time": "2021-03-21T19:25:45.340184Z"
    }
   },
   "outputs": [],
   "source": [
    "print('Total Time:', datetime.now()-start_time)"
   ]
  },
  {
   "cell_type": "markdown",
   "id": "intermediate-inside",
   "metadata": {},
   "source": [
    "### Ensemble Stacking"
   ]
  },
  {
   "cell_type": "code",
   "execution_count": 8,
   "id": "enabling-logic",
   "metadata": {
    "ExecuteTime": {
     "end_time": "2021-03-23T04:41:29.206075Z",
     "start_time": "2021-03-22T23:18:12.803995Z"
    }
   },
   "outputs": [],
   "source": [
    "train_result = []\n",
    "test_result = []\n",
    "oot_result = []\n",
    "\n",
    "\n",
    "X_train, X_test, y_train, y_test = train_test_split(X, y, stratify=y)\n",
    "\n",
    "#define base model\n",
    "level0 = list()\n",
    "level0.append(('lr', LogisticRegression()))\n",
    "level0.append(('knn', KNeighborsClassifier()))\n",
    "level0.append(('cart', DecisionTreeClassifier()))\n",
    "level0.append(('bayes', GaussianNB()))\n",
    "level0.append(('mlp', MLPClassifier(hidden_layer_sizes=(10,),\n",
    "                            max_iter=200,\n",
    "                            activation='logistic',\n",
    "                            solver='adam',\n",
    "                            alpha=0.001,\n",
    "                            learning_rate='adaptive',\n",
    "                            learning_rate_init=0.001)))\n",
    "level0.append(('rfl', RandomForestClassifier(criterion='gini',\n",
    "                                             max_features='sqrt', \n",
    "                                             min_samples_leaf=1,\n",
    "                                             min_samples_split=15,\n",
    "                                             n_estimators=200,\n",
    "                                             bootstrap=True,\n",
    "                                             random_state=42)))\n",
    "# define meta learner model\n",
    "level1 = GradientBoostingClassifier(learning_rate=0.05, n_estimators =1000,\n",
    "                                    max_depth=5, max_features=0.2,\n",
    "                                    min_samples_split=500, \n",
    "                                    min_samples_leaf=30)\n",
    "\n",
    "\n",
    "# define the stacking ensemble\n",
    "stack = StackingClassifier(estimators=level0, final_estimator=level1, cv=5, \n",
    "                           stack_method='predict_proba',n_jobs=-1)\n",
    "# fit the model on all available data\n",
    "stack.fit(X_train, y_train)\n",
    "\n",
    "train_result = fdr_cal(X_train, y_train, stack)\n",
    "test_result = fdr_cal(X_test, y_test, stack)\n",
    "oot_result = fdr_cal(oot_x, oot_y, stack)"
   ]
  },
  {
   "cell_type": "code",
   "execution_count": 9,
   "id": "unauthorized-facility",
   "metadata": {
    "ExecuteTime": {
     "end_time": "2021-03-23T04:41:29.216319Z",
     "start_time": "2021-03-23T04:41:29.210525Z"
    }
   },
   "outputs": [
    {
     "name": "stdout",
     "output_type": "stream",
     "text": [
      "Stacked Train FDR: 0.5854423032273044\n",
      "Stacked Test FDR: 0.5755571030640668\n",
      "Stacked OOT FDR: 0.5536462699077954\n"
     ]
    }
   ],
   "source": [
    "print('Stacked Train FDR:',train_result)\n",
    "print('Stacked Test FDR:',test_result)\n",
    "print('Stacked OOT FDR:',oot_result)"
   ]
  },
  {
   "cell_type": "code",
   "execution_count": 10,
   "id": "interpreted-harassment",
   "metadata": {
    "ExecuteTime": {
     "end_time": "2021-03-23T04:41:29.222360Z",
     "start_time": "2021-03-23T04:41:29.219031Z"
    }
   },
   "outputs": [
    {
     "name": "stdout",
     "output_type": "stream",
     "text": [
      "Total Time: 5:27:58.600756\n"
     ]
    }
   ],
   "source": [
    "print('Total Time:', datetime.now()-start_time)"
   ]
  },
  {
   "cell_type": "markdown",
   "id": "familiar-argentina",
   "metadata": {
    "heading_collapsed": true
   },
   "source": [
    "### Grid Search CV"
   ]
  },
  {
   "cell_type": "code",
   "execution_count": null,
   "id": "single-tours",
   "metadata": {
    "hidden": true
   },
   "outputs": [],
   "source": [
    "# Finalize hyperparameters\n",
    "from sklearn.model_selection import GridSearchCV\n",
    "\n",
    "# setting parameter grid based on prior best results\n",
    "parameters = {\n",
    "    'num_tree': [1000,1500,1800], \n",
    "    'max_depth': [5],\n",
    "    'learn_rate': [0.02,0.05],\n",
    "    'max_feature': [5],\n",
    "    'min_samples_leaf': [30],\n",
    "    \"min_samples_split\": [500, 1500]\n",
    "}\n",
    "\n",
    "# perform grid search\n",
    "gbm = GradientBoostingClassifier()\n",
    "grid_search = GridSearchCV(estimator=gbm, param_grid = parameters, cv=2, n_jobs=-1, verbose=2)\n",
    "grid_search.fit(X_train, y_train)"
   ]
  }
 ],
 "metadata": {
  "kernelspec": {
   "display_name": "Python 3",
   "language": "python",
   "name": "python3"
  },
  "language_info": {
   "codemirror_mode": {
    "name": "ipython",
    "version": 3
   },
   "file_extension": ".py",
   "mimetype": "text/x-python",
   "name": "python",
   "nbconvert_exporter": "python",
   "pygments_lexer": "ipython3",
   "version": "3.8.3"
  }
 },
 "nbformat": 4,
 "nbformat_minor": 5
}
