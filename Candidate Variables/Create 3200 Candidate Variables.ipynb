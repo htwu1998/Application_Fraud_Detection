{
 "cells": [
  {
   "cell_type": "markdown",
   "id": "proof-picture",
   "metadata": {},
   "source": [
    "**Loading Libraries**"
   ]
  },
  {
   "cell_type": "code",
   "execution_count": 2,
   "id": "attempted-magnet",
   "metadata": {
    "ExecuteTime": {
     "end_time": "2021-03-10T07:18:04.551658Z",
     "start_time": "2021-03-10T07:18:03.352894Z"
    }
   },
   "outputs": [
    {
     "name": "stdout",
     "output_type": "stream",
     "text": [
      "LOAD DURATION: 0:00:01.192915\n"
     ]
    }
   ],
   "source": [
    "# Load libraries\n",
    "import datetime as dt\n",
    "from datetime import datetime\n",
    "import time \n",
    "import calendar\n",
    "start_time = datetime.now()\n",
    "\n",
    "import pandas as pd\n",
    "import numpy as np\n",
    "import matplotlib.pyplot as plt\n",
    "import seaborn as sns\n",
    "%matplotlib inline\n",
    "\n",
    "print('LOAD DURATION:',datetime.now() - start_time)"
   ]
  },
  {
   "cell_type": "markdown",
   "id": "noble-beaver",
   "metadata": {},
   "source": [
    "**Load Data**"
   ]
  },
  {
   "cell_type": "code",
   "execution_count": 3,
   "id": "banned-brake",
   "metadata": {
    "ExecuteTime": {
     "end_time": "2021-03-10T07:18:06.697462Z",
     "start_time": "2021-03-10T07:18:05.640940Z"
    }
   },
   "outputs": [
    {
     "name": "stdout",
     "output_type": "stream",
     "text": [
      "CPU times: user 944 ms, sys: 108 ms, total: 1.05 s\n",
      "Wall time: 1.05 s\n"
     ]
    }
   ],
   "source": [
    "%%time\n",
    "df = pd.read_csv('applications data.csv')"
   ]
  },
  {
   "cell_type": "code",
   "execution_count": 4,
   "id": "specified-camcorder",
   "metadata": {
    "ExecuteTime": {
     "end_time": "2021-03-10T07:18:11.825453Z",
     "start_time": "2021-03-10T07:18:08.547509Z"
    }
   },
   "outputs": [],
   "source": [
    "# fix data type\n",
    "df['date'] = pd.to_datetime(df.date.astype(str).apply(lambda x: x[:4]+'-' + x[4:6]+'-' + x[6:]))\n",
    "df['zip5'] = df['zip5'].apply(lambda x: '{0:0>5}'.format(x))\n",
    "\n",
    "#fix frivolous values\n",
    "#ssn\n",
    "df.loc[df.ssn == 999999999, 'ssn'] = -df[df.ssn==999999999]['record']\n",
    "df['ssn'] = df['ssn'].apply(lambda x: '{0:0>9}'.format(x))\n",
    "\n",
    "#address\n",
    "df.loc[df.address=='123 MAIN ST', 'address'] = \\\n",
    "    df.loc[df.address=='123 MAIN ST', 'record'].apply(lambda x: str(x) + ' RECORD')\n",
    "\n",
    "#dob\n",
    "df.loc[df.dob==19070626, 'dob'] = -df.loc[df.dob==19070626]['record']\n",
    "df['dob'] = df['dob'].apply(lambda x: '{0:0>8}'.format(x))\n",
    "\n",
    "#homephone\n",
    "df.loc[df.homephone==9999999999, 'homephone'] = -df.loc[df.homephone==9999999999]['record']\n",
    "df['homephone'] = df['homephone'].apply(lambda x: '{0:0>10}'.format(x))"
   ]
  },
  {
   "cell_type": "code",
   "execution_count": 5,
   "id": "adjustable-certification",
   "metadata": {
    "ExecuteTime": {
     "end_time": "2021-03-10T07:18:11.843651Z",
     "start_time": "2021-03-10T07:18:11.827457Z"
    }
   },
   "outputs": [
    {
     "data": {
      "text/html": [
       "<div>\n",
       "<style scoped>\n",
       "    .dataframe tbody tr th:only-of-type {\n",
       "        vertical-align: middle;\n",
       "    }\n",
       "\n",
       "    .dataframe tbody tr th {\n",
       "        vertical-align: top;\n",
       "    }\n",
       "\n",
       "    .dataframe thead th {\n",
       "        text-align: right;\n",
       "    }\n",
       "</style>\n",
       "<table border=\"1\" class=\"dataframe\">\n",
       "  <thead>\n",
       "    <tr style=\"text-align: right;\">\n",
       "      <th></th>\n",
       "      <th>record</th>\n",
       "      <th>date</th>\n",
       "      <th>ssn</th>\n",
       "      <th>firstname</th>\n",
       "      <th>lastname</th>\n",
       "      <th>address</th>\n",
       "      <th>zip5</th>\n",
       "      <th>dob</th>\n",
       "      <th>homephone</th>\n",
       "      <th>fraud_label</th>\n",
       "    </tr>\n",
       "  </thead>\n",
       "  <tbody>\n",
       "    <tr>\n",
       "      <th>0</th>\n",
       "      <td>1</td>\n",
       "      <td>2016-01-01</td>\n",
       "      <td>379070012</td>\n",
       "      <td>XRRAMMTR</td>\n",
       "      <td>SMJETJMJ</td>\n",
       "      <td>6861 EUTST PL</td>\n",
       "      <td>02765</td>\n",
       "      <td>000000-1</td>\n",
       "      <td>1797504115</td>\n",
       "      <td>0</td>\n",
       "    </tr>\n",
       "    <tr>\n",
       "      <th>1</th>\n",
       "      <td>2</td>\n",
       "      <td>2016-01-01</td>\n",
       "      <td>387482503</td>\n",
       "      <td>MAMSTUJR</td>\n",
       "      <td>RTTEMRRR</td>\n",
       "      <td>7280 URASA PL</td>\n",
       "      <td>57169</td>\n",
       "      <td>19340615</td>\n",
       "      <td>4164239415</td>\n",
       "      <td>1</td>\n",
       "    </tr>\n",
       "    <tr>\n",
       "      <th>2</th>\n",
       "      <td>3</td>\n",
       "      <td>2016-01-01</td>\n",
       "      <td>200332444</td>\n",
       "      <td>SZMMUJEZS</td>\n",
       "      <td>EUSEZRAE</td>\n",
       "      <td>5581 RSREX LN</td>\n",
       "      <td>56721</td>\n",
       "      <td>000000-3</td>\n",
       "      <td>0216537580</td>\n",
       "      <td>0</td>\n",
       "    </tr>\n",
       "  </tbody>\n",
       "</table>\n",
       "</div>"
      ],
      "text/plain": [
       "   record       date        ssn  firstname  lastname        address   zip5  \\\n",
       "0       1 2016-01-01  379070012   XRRAMMTR  SMJETJMJ  6861 EUTST PL  02765   \n",
       "1       2 2016-01-01  387482503   MAMSTUJR  RTTEMRRR  7280 URASA PL  57169   \n",
       "2       3 2016-01-01  200332444  SZMMUJEZS  EUSEZRAE  5581 RSREX LN  56721   \n",
       "\n",
       "        dob   homephone  fraud_label  \n",
       "0  000000-1  1797504115            0  \n",
       "1  19340615  4164239415            1  \n",
       "2  000000-3  0216537580            0  "
      ]
     },
     "execution_count": 5,
     "metadata": {},
     "output_type": "execute_result"
    }
   ],
   "source": [
    "df.head(3)"
   ]
  },
  {
   "cell_type": "code",
   "execution_count": 6,
   "id": "nervous-current",
   "metadata": {
    "ExecuteTime": {
     "end_time": "2021-03-10T07:18:12.267531Z",
     "start_time": "2021-03-10T07:18:11.846134Z"
    }
   },
   "outputs": [
    {
     "name": "stdout",
     "output_type": "stream",
     "text": [
      "<class 'pandas.core.frame.DataFrame'>\n",
      "RangeIndex: 1000000 entries, 0 to 999999\n",
      "Data columns (total 10 columns):\n",
      " #   Column       Non-Null Count    Dtype         \n",
      "---  ------       --------------    -----         \n",
      " 0   record       1000000 non-null  int64         \n",
      " 1   date         1000000 non-null  datetime64[ns]\n",
      " 2   ssn          1000000 non-null  object        \n",
      " 3   firstname    1000000 non-null  object        \n",
      " 4   lastname     1000000 non-null  object        \n",
      " 5   address      1000000 non-null  object        \n",
      " 6   zip5         1000000 non-null  object        \n",
      " 7   dob          1000000 non-null  object        \n",
      " 8   homephone    1000000 non-null  object        \n",
      " 9   fraud_label  1000000 non-null  int64         \n",
      "dtypes: datetime64[ns](1), int64(2), object(7)\n",
      "memory usage: 76.3+ MB\n"
     ]
    }
   ],
   "source": [
    "df.info()"
   ]
  },
  {
   "cell_type": "markdown",
   "id": "south-deployment",
   "metadata": {},
   "source": [
    "**Risk Table for day of week**"
   ]
  },
  {
   "cell_type": "code",
   "execution_count": 7,
   "id": "mental-security",
   "metadata": {
    "ExecuteTime": {
     "end_time": "2021-03-10T07:18:17.326689Z",
     "start_time": "2021-03-10T07:18:12.269232Z"
    }
   },
   "outputs": [],
   "source": [
    "df['dow'] = df.date.apply(lambda x: calendar.day_name[x.weekday()])"
   ]
  },
  {
   "cell_type": "code",
   "execution_count": 8,
   "id": "concrete-carpet",
   "metadata": {
    "ExecuteTime": {
     "end_time": "2021-03-10T07:18:17.648314Z",
     "start_time": "2021-03-10T07:18:17.328383Z"
    }
   },
   "outputs": [],
   "source": [
    "train_test = df[df.date < '2016-11-01']"
   ]
  },
  {
   "cell_type": "code",
   "execution_count": 9,
   "id": "direct-survey",
   "metadata": {
    "ExecuteTime": {
     "end_time": "2021-03-10T07:18:17.843359Z",
     "start_time": "2021-03-10T07:18:17.650859Z"
    }
   },
   "outputs": [],
   "source": [
    "# statistical smoothing\n",
    "c = 4; nmid = 20; y_avg = train_test['fraud_label'].mean()\n",
    "y_dow = train_test.groupby('dow')['fraud_label'].mean()\n",
    "num = train_test.groupby('dow').size()\n",
    "y_dow_smooth = y_avg + (y_dow - y_avg)/(1 + np.exp(-(num - nmid)/c))\n",
    "df['dow_risk'] = df.dow.map(y_dow_smooth)"
   ]
  },
  {
   "cell_type": "code",
   "execution_count": 10,
   "id": "modified-infrastructure",
   "metadata": {
    "ExecuteTime": {
     "end_time": "2021-03-10T07:18:17.850892Z",
     "start_time": "2021-03-10T07:18:17.845374Z"
    }
   },
   "outputs": [],
   "source": [
    "y_dow = y_dow.reset_index()\n",
    "\n",
    "cats = [ 'Monday', 'Tuesday', 'Wednesday', 'Thursday', 'Friday','Saturday', 'Sunday']\n",
    "y_dow['dow'] = pd.Categorical(y_dow['dow'], categories=cats, ordered=True)\n",
    "y_dow = y_dow.sort_values('dow')\n",
    "y_dow = y_dow.set_index('dow')"
   ]
  },
  {
   "cell_type": "code",
   "execution_count": 11,
   "id": "rural-relationship",
   "metadata": {
    "ExecuteTime": {
     "end_time": "2021-03-10T07:18:18.005470Z",
     "start_time": "2021-03-10T07:18:17.852556Z"
    },
    "scrolled": false
   },
   "outputs": [
    {
     "data": {
      "image/png": "[encoded data removed]",
      "text/plain": [
       "<Figure size 1440x720 with 1 Axes>"
      ]
     },
     "metadata": {
      "needs_background": "light"
     },
     "output_type": "display_data"
    }
   ],
   "source": [
    "# plt.style.use('ggplot')\n",
    "fig, ax = plt.subplots(figsize=(20,10))\n",
    "plt.bar(data=y_dow, x=y_dow.index, height='fraud_label', color='darkblue')\n",
    "ax.set_ylim(bottom=0.013)\n",
    "ax.axhline(y=y_avg, ls='--', lw=2)\n",
    "\n",
    "for i, v in enumerate(y_dow.index):\n",
    "    ax.text(v,y_dow.loc[i,'fraud_label']+0.0001,round(y_dow.loc[i,'fraud_label'],5),\n",
    "            horizontalalignment='center',fontsize=15)\n",
    "\n",
    "plt.show()"
   ]
  },
  {
   "cell_type": "markdown",
   "id": "casual-raleigh",
   "metadata": {},
   "source": [
    "**Create Entities**"
   ]
  },
  {
   "cell_type": "markdown",
   "id": "domestic-driving",
   "metadata": {},
   "source": [
    "- name: firstname + lastname\n",
    "- fulladdress: address + zip5\n",
    "- unusable columns: record, fraud_label, date\n",
    "- remaining columns:\n",
    "    - ssn\n",
    "    - dob\n",
    "    - homephone"
   ]
  },
  {
   "cell_type": "code",
   "execution_count": 12,
   "id": "cloudy-commissioner",
   "metadata": {
    "ExecuteTime": {
     "end_time": "2021-03-10T07:18:18.958481Z",
     "start_time": "2021-03-10T07:18:18.007807Z"
    }
   },
   "outputs": [],
   "source": [
    "df['name'] = df.firstname + df.lastname\n",
    "df['fulladdress'] = df.address + df.zip5\n",
    "df['name_dob'] = df.name + df.dob\n",
    "df['name_fulladdress'] = df.name + df.fulladdress\n",
    "df['name_homephone'] = df.name + df.homephone\n",
    "df['fulladdress_dob'] = df.fulladdress + df.dob\n",
    "df['fulladdress_homephone'] = df.fulladdress + df.homephone\n",
    "df['dob_homephone'] = df.dob + df.homephone\n",
    "df['homephone_name_dob'] = df.homephone + df.name_dob"
   ]
  },
  {
   "cell_type": "code",
   "execution_count": 13,
   "id": "dynamic-cooperative",
   "metadata": {
    "ExecuteTime": {
     "end_time": "2021-03-10T07:18:18.964184Z",
     "start_time": "2021-03-10T07:18:18.960540Z"
    }
   },
   "outputs": [
    {
     "data": {
      "text/plain": [
       "Index(['record', 'date', 'ssn', 'firstname', 'lastname', 'address', 'zip5',\n",
       "       'dob', 'homephone', 'fraud_label', 'dow', 'dow_risk', 'name',\n",
       "       'fulladdress', 'name_dob', 'name_fulladdress', 'name_homephone',\n",
       "       'fulladdress_dob', 'fulladdress_homephone', 'dob_homephone',\n",
       "       'homephone_name_dob'],\n",
       "      dtype='object')"
      ]
     },
     "execution_count": 13,
     "metadata": {},
     "output_type": "execute_result"
    }
   ],
   "source": [
    "df.columns"
   ]
  },
  {
   "cell_type": "code",
   "execution_count": 14,
   "id": "fundamental-poultry",
   "metadata": {
    "ExecuteTime": {
     "end_time": "2021-03-10T07:18:20.669006Z",
     "start_time": "2021-03-10T07:18:18.965851Z"
    }
   },
   "outputs": [],
   "source": [
    "for field in list(df.iloc[:,np.r_[3:9, 12:15]].columns):\n",
    "    df['ssn_'+field] = df.ssn + df[field]"
   ]
  },
  {
   "cell_type": "code",
   "execution_count": 15,
   "id": "usual-reggae",
   "metadata": {
    "ExecuteTime": {
     "end_time": "2021-03-10T07:18:20.674997Z",
     "start_time": "2021-03-10T07:18:20.670963Z"
    }
   },
   "outputs": [
    {
     "data": {
      "text/plain": [
       "Index(['record', 'date', 'ssn', 'firstname', 'lastname', 'address', 'zip5',\n",
       "       'dob', 'homephone', 'fraud_label', 'dow', 'dow_risk', 'name',\n",
       "       'fulladdress', 'name_dob', 'name_fulladdress', 'name_homephone',\n",
       "       'fulladdress_dob', 'fulladdress_homephone', 'dob_homephone',\n",
       "       'homephone_name_dob', 'ssn_firstname', 'ssn_lastname', 'ssn_address',\n",
       "       'ssn_zip5', 'ssn_dob', 'ssn_homephone', 'ssn_name', 'ssn_fulladdress',\n",
       "       'ssn_name_dob'],\n",
       "      dtype='object')"
      ]
     },
     "execution_count": 15,
     "metadata": {},
     "output_type": "execute_result"
    }
   ],
   "source": [
    "df.columns"
   ]
  },
  {
   "cell_type": "code",
   "execution_count": 16,
   "id": "guided-frontier",
   "metadata": {
    "ExecuteTime": {
     "end_time": "2021-03-10T07:18:21.894901Z",
     "start_time": "2021-03-10T07:18:20.678255Z"
    }
   },
   "outputs": [],
   "source": [
    "attributes = list(df.iloc[:, np.r_[2, 5, 7, 8, 12:30]].columns)"
   ]
  },
  {
   "cell_type": "markdown",
   "id": "wanted-alloy",
   "metadata": {},
   "source": [
    "**Attributes:**\n",
    "['ssn','address',\n",
    " 'dob',\n",
    " 'homephone',\n",
    " 'name',\n",
    " 'fulladdress',\n",
    " 'name_dob',\n",
    " 'name_fulladdress',\n",
    " 'name_homephone',\n",
    " 'fulladdress_dob',\n",
    " 'fulladdress_homephone',\n",
    " 'dob_homephone',\n",
    " 'homephone_name_dob',\n",
    " 'ssn_firstname',\n",
    " 'ssn_lastname',\n",
    " 'ssn_address',\n",
    " 'ssn_zip5',\n",
    " 'ssn_dob',\n",
    " 'ssn_homephone',\n",
    " 'ssn_name',\n",
    " 'ssn_fulladdress',\n",
    " 'ssn_name_dob']"
   ]
  },
  {
   "cell_type": "code",
   "execution_count": 17,
   "id": "laughing-turning",
   "metadata": {
    "ExecuteTime": {
     "end_time": "2021-03-10T07:18:23.249918Z",
     "start_time": "2021-03-10T07:18:22.764934Z"
    }
   },
   "outputs": [],
   "source": [
    "df1 = df.copy()\n",
    "final = df.copy()\n",
    "df1['check_date'] = df1.date\n",
    "df1['check_record'] = df1.record"
   ]
  },
  {
   "cell_type": "code",
   "execution_count": 18,
   "id": "cheap-middle",
   "metadata": {
    "ExecuteTime": {
     "end_time": "2021-03-10T07:20:04.168781Z",
     "start_time": "2021-03-10T07:18:23.252031Z"
    },
    "scrolled": false
   },
   "outputs": [
    {
     "name": "stdout",
     "output_type": "stream",
     "text": [
      "\n",
      "ssn_day_since ---> Done\n",
      "ssn_count_0 ---> Done\n",
      "ssn_count_1 ---> Done\n",
      "ssn_count_3 ---> Done\n",
      "ssn_count_7 ---> Done\n",
      "ssn_count_14 ---> Done\n",
      "ssn_count_30 ---> Done\n",
      "Run time for entity ssn ------------- 3.5872530937194824s\n",
      "\n",
      "address_day_since ---> Done\n",
      "address_count_0 ---> Done\n",
      "address_count_1 ---> Done\n",
      "address_count_3 ---> Done\n",
      "address_count_7 ---> Done\n",
      "address_count_14 ---> Done\n",
      "address_count_30 ---> Done\n",
      "Run time for entity address ------------- 3.7269232273101807s\n",
      "\n",
      "dob_day_since ---> Done\n",
      "dob_count_0 ---> Done\n",
      "dob_count_1 ---> Done\n",
      "dob_count_3 ---> Done\n",
      "dob_count_7 ---> Done\n",
      "dob_count_14 ---> Done\n",
      "dob_count_30 ---> Done\n",
      "Run time for entity dob ------------- 18.694761037826538s\n",
      "\n",
      "homephone_day_since ---> Done\n",
      "homephone_count_0 ---> Done\n",
      "homephone_count_1 ---> Done\n",
      "homephone_count_3 ---> Done\n",
      "homephone_count_7 ---> Done\n",
      "homephone_count_14 ---> Done\n",
      "homephone_count_30 ---> Done\n",
      "Run time for entity homephone ------------- 14.69906210899353s\n",
      "\n",
      "name_day_since ---> Done\n",
      "name_count_0 ---> Done\n",
      "name_count_1 ---> Done\n",
      "name_count_3 ---> Done\n",
      "name_count_7 ---> Done\n",
      "name_count_14 ---> Done\n",
      "name_count_30 ---> Done\n",
      "Run time for entity name ------------- 4.237278938293457s\n",
      "\n",
      "fulladdress_day_since ---> Done\n",
      "fulladdress_count_0 ---> Done\n",
      "fulladdress_count_1 ---> Done\n",
      "fulladdress_count_3 ---> Done\n",
      "fulladdress_count_7 ---> Done\n",
      "fulladdress_count_14 ---> Done\n",
      "fulladdress_count_30 ---> Done\n",
      "Run time for entity fulladdress ------------- 3.303814172744751s\n",
      "\n",
      "name_dob_day_since ---> Done\n",
      "name_dob_count_0 ---> Done\n",
      "name_dob_count_1 ---> Done\n",
      "name_dob_count_3 ---> Done\n",
      "name_dob_count_7 ---> Done\n",
      "name_dob_count_14 ---> Done\n",
      "name_dob_count_30 ---> Done\n",
      "Run time for entity name_dob ------------- 3.2456629276275635s\n",
      "\n",
      "name_fulladdress_day_since ---> Done\n",
      "name_fulladdress_count_0 ---> Done\n",
      "name_fulladdress_count_1 ---> Done\n",
      "name_fulladdress_count_3 ---> Done\n",
      "name_fulladdress_count_7 ---> Done\n",
      "name_fulladdress_count_14 ---> Done\n",
      "name_fulladdress_count_30 ---> Done\n",
      "Run time for entity name_fulladdress ------------- 3.3140809535980225s\n",
      "\n",
      "name_homephone_day_since ---> Done\n",
      "name_homephone_count_0 ---> Done\n",
      "name_homephone_count_1 ---> Done\n",
      "name_homephone_count_3 ---> Done\n",
      "name_homephone_count_7 ---> Done\n",
      "name_homephone_count_14 ---> Done\n",
      "name_homephone_count_30 ---> Done\n",
      "Run time for entity name_homephone ------------- 3.3183207511901855s\n",
      "\n",
      "fulladdress_dob_day_since ---> Done\n",
      "fulladdress_dob_count_0 ---> Done\n",
      "fulladdress_dob_count_1 ---> Done\n",
      "fulladdress_dob_count_3 ---> Done\n",
      "fulladdress_dob_count_7 ---> Done\n",
      "fulladdress_dob_count_14 ---> Done\n",
      "fulladdress_dob_count_30 ---> Done\n",
      "Run time for entity fulladdress_dob ------------- 3.155364751815796s\n",
      "\n",
      "fulladdress_homephone_day_since ---> Done\n",
      "fulladdress_homephone_count_0 ---> Done\n",
      "fulladdress_homephone_count_1 ---> Done\n",
      "fulladdress_homephone_count_3 ---> Done\n",
      "fulladdress_homephone_count_7 ---> Done\n",
      "fulladdress_homephone_count_14 ---> Done\n",
      "fulladdress_homephone_count_30 ---> Done\n",
      "Run time for entity fulladdress_homephone ------------- 3.257728099822998s\n",
      "\n",
      "dob_homephone_day_since ---> Done\n",
      "dob_homephone_count_0 ---> Done\n",
      "dob_homephone_count_1 ---> Done\n",
      "dob_homephone_count_3 ---> Done\n",
      "dob_homephone_count_7 ---> Done\n",
      "dob_homephone_count_14 ---> Done\n",
      "dob_homephone_count_30 ---> Done\n",
      "Run time for entity dob_homephone ------------- 3.1853933334350586s\n",
      "\n",
      "homephone_name_dob_day_since ---> Done\n",
      "homephone_name_dob_count_0 ---> Done\n",
      "homephone_name_dob_count_1 ---> Done\n",
      "homephone_name_dob_count_3 ---> Done\n",
      "homephone_name_dob_count_7 ---> Done\n",
      "homephone_name_dob_count_14 ---> Done\n",
      "homephone_name_dob_count_30 ---> Done\n",
      "Run time for entity homephone_name_dob ------------- 3.174870014190674s\n",
      "\n",
      "ssn_firstname_day_since ---> Done\n",
      "ssn_firstname_count_0 ---> Done\n",
      "ssn_firstname_count_1 ---> Done\n",
      "ssn_firstname_count_3 ---> Done\n",
      "ssn_firstname_count_7 ---> Done\n",
      "ssn_firstname_count_14 ---> Done\n",
      "ssn_firstname_count_30 ---> Done\n",
      "Run time for entity ssn_firstname ------------- 4.144499063491821s\n",
      "\n",
      "ssn_lastname_day_since ---> Done\n",
      "ssn_lastname_count_0 ---> Done\n",
      "ssn_lastname_count_1 ---> Done\n",
      "ssn_lastname_count_3 ---> Done\n",
      "ssn_lastname_count_7 ---> Done\n",
      "ssn_lastname_count_14 ---> Done\n",
      "ssn_lastname_count_30 ---> Done\n",
      "Run time for entity ssn_lastname ------------- 3.2742319107055664s\n",
      "\n",
      "ssn_address_day_since ---> Done\n",
      "ssn_address_count_0 ---> Done\n",
      "ssn_address_count_1 ---> Done\n",
      "ssn_address_count_3 ---> Done\n",
      "ssn_address_count_7 ---> Done\n",
      "ssn_address_count_14 ---> Done\n",
      "ssn_address_count_30 ---> Done\n",
      "Run time for entity ssn_address ------------- 3.2738518714904785s\n",
      "\n",
      "ssn_zip5_day_since ---> Done\n",
      "ssn_zip5_count_0 ---> Done\n",
      "ssn_zip5_count_1 ---> Done\n",
      "ssn_zip5_count_3 ---> Done\n",
      "ssn_zip5_count_7 ---> Done\n",
      "ssn_zip5_count_14 ---> Done\n",
      "ssn_zip5_count_30 ---> Done\n",
      "Run time for entity ssn_zip5 ------------- 3.1614720821380615s\n",
      "\n",
      "ssn_dob_day_since ---> Done\n",
      "ssn_dob_count_0 ---> Done\n",
      "ssn_dob_count_1 ---> Done\n",
      "ssn_dob_count_3 ---> Done\n",
      "ssn_dob_count_7 ---> Done\n",
      "ssn_dob_count_14 ---> Done\n",
      "ssn_dob_count_30 ---> Done\n",
      "Run time for entity ssn_dob ------------- 3.2761669158935547s\n",
      "\n",
      "ssn_homephone_day_since ---> Done\n",
      "ssn_homephone_count_0 ---> Done\n",
      "ssn_homephone_count_1 ---> Done\n",
      "ssn_homephone_count_3 ---> Done\n",
      "ssn_homephone_count_7 ---> Done\n",
      "ssn_homephone_count_14 ---> Done\n",
      "ssn_homephone_count_30 ---> Done\n",
      "Run time for entity ssn_homephone ------------- 3.173356056213379s\n",
      "\n",
      "ssn_name_day_since ---> Done\n",
      "ssn_name_count_0 ---> Done\n",
      "ssn_name_count_1 ---> Done\n",
      "ssn_name_count_3 ---> Done\n",
      "ssn_name_count_7 ---> Done\n",
      "ssn_name_count_14 ---> Done\n",
      "ssn_name_count_30 ---> Done\n",
      "Run time for entity ssn_name ------------- 3.240499258041382s\n",
      "\n",
      "ssn_fulladdress_day_since ---> Done\n",
      "ssn_fulladdress_count_0 ---> Done\n",
      "ssn_fulladdress_count_1 ---> Done\n",
      "ssn_fulladdress_count_3 ---> Done\n",
      "ssn_fulladdress_count_7 ---> Done\n",
      "ssn_fulladdress_count_14 ---> Done\n",
      "ssn_fulladdress_count_30 ---> Done\n",
      "Run time for entity ssn_fulladdress ------------- 3.237952709197998s\n",
      "\n",
      "ssn_name_dob_day_since ---> Done\n",
      "ssn_name_dob_count_0 ---> Done\n",
      "ssn_name_dob_count_1 ---> Done\n",
      "ssn_name_dob_count_3 ---> Done\n",
      "ssn_name_dob_count_7 ---> Done\n",
      "ssn_name_dob_count_14 ---> Done\n",
      "ssn_name_dob_count_30 ---> Done\n",
      "Run time for entity ssn_name_dob ------------- 3.225935935974121s\n",
      "Total run time: 1.6818225860595704min\n"
     ]
    }
   ],
   "source": [
    "begin = time.time()\n",
    "for entity in attributes:\n",
    "    st = time.time()\n",
    "    df_1 = df1[['record', 'date', entity]]\n",
    "    df_r = df1[['check_record', 'check_date', entity]]\n",
    "    temp = pd.merge(df_1, df_r, left_on=entity, right_on=entity)\n",
    "    \n",
    "    #day since\n",
    "    day_since_df = temp[temp.record > temp.check_record][['record', 'date', 'check_date']] \\\n",
    "                    .groupby('record')[['date','check_date']].last()\n",
    "    mapper = (day_since_df.date - day_since_df.check_date).dt.days\n",
    "    final[entity + '_day_since'] = final.record.map(mapper)\n",
    "    final[entity + '_day_since'].fillna(365, inplace=True)\n",
    "    print(f'\\n{entity}_day_since ---> Done')\n",
    "    \n",
    "    #velocity\n",
    "    for offset_t in [0, 1, 3, 7, 14, 30]:\n",
    "        count_day_df = temp[(temp.check_date >= (temp.date - dt.timedelta(offset_t)))\n",
    "                            & (temp.record >= temp.check_record)]\n",
    "        col_name = f'{entity}_count_{offset_t}'\n",
    "        mapper2 = count_day_df.groupby('record')[entity].count()\n",
    "        final[col_name] = final.record.map(mapper2)\n",
    "        \n",
    "        print(f'{entity}_count_{str(offset_t)} ---> Done')\n",
    "        \n",
    "    print(f'Run time for entity {entity} ------------- {time.time() - st}s')\n",
    "\n",
    "print(f'Total run time: {(time.time() - begin) / 60}min')"
   ]
  },
  {
   "cell_type": "code",
   "execution_count": 19,
   "id": "resistant-purse",
   "metadata": {
    "ExecuteTime": {
     "end_time": "2021-03-10T07:20:09.022666Z",
     "start_time": "2021-03-10T07:20:04.170823Z"
    }
   },
   "outputs": [
    {
     "name": "stdout",
     "output_type": "stream",
     "text": [
      "Total run time: 4.848244905471802s\n"
     ]
    }
   ],
   "source": [
    "start = time.time()\n",
    "for att in attributes:\n",
    "    for d in ['0', '1']:\n",
    "        for dd in ['3', '7', '14', '30']:\n",
    "             final[att + '_count_' + d + '_by_' + dd] \\\n",
    "                = final[att + '_count_' + d] / (final[att + '_count_' + dd] / float(dd))\n",
    "print(f'Total run time: {time.time() - start}s')"
   ]
  },
  {
   "cell_type": "code",
   "execution_count": 21,
   "id": "identified-centre",
   "metadata": {
    "ExecuteTime": {
     "end_time": "2021-03-10T07:23:29.111687Z",
     "start_time": "2021-03-10T07:21:03.068950Z"
    }
   },
   "outputs": [],
   "source": [
    "final.to_csv('candidate_var_hw7.csv')"
   ]
  },
  {
   "cell_type": "markdown",
   "id": "contemporary-image",
   "metadata": {},
   "source": [
    "**Number of Unique in Particular Entity over Past N Days**"
   ]
  },
  {
   "cell_type": "code",
   "execution_count": 19,
   "id": "binary-keeping",
   "metadata": {
    "ExecuteTime": {
     "end_time": "2021-03-04T08:37:09.405245Z",
     "start_time": "2021-03-04T07:24:55.973807Z"
    },
    "scrolled": false
   },
   "outputs": [
    {
     "name": "stdout",
     "output_type": "stream",
     "text": [
      "Run time for entity ssn in field address------------- 5.486732006072998s\n",
      "Run time for entity ssn in field dob------------- 5.045983076095581s\n",
      "Run time for entity ssn in field homephone------------- 4.996290922164917s\n",
      "Run time for entity ssn in field name------------- 5.009008884429932s\n",
      "Run time for entity ssn in field fulladdress------------- 5.528486967086792s\n",
      "Run time for entity ssn in field name_dob------------- 5.5657031536102295s\n",
      "Run time for entity ssn in field name_fulladdress------------- 5.71871280670166s\n",
      "Run time for entity ssn in field name_homephone------------- 5.651617050170898s\n",
      "Run time for entity ssn in field fulladdress_dob------------- 5.681532859802246s\n",
      "Run time for entity ssn in field fulladdress_homephone------------- 9.327647924423218s\n",
      "Run time for entity ssn in field dob_homephone------------- 5.5063300132751465s\n",
      "Run time for entity ssn in field homephone_name_dob------------- 5.742978096008301s\n",
      "Run time for entity ssn in field ssn_firstname------------- 5.393007755279541s\n",
      "Run time for entity ssn in field ssn_lastname------------- 5.424090147018433s\n",
      "Run time for entity ssn in field ssn_address------------- 5.447246789932251s\n",
      "Run time for entity ssn in field ssn_zip5------------- 5.182739019393921s\n",
      "Run time for entity ssn in field ssn_dob------------- 5.442694902420044s\n",
      "Run time for entity ssn in field ssn_homephone------------- 5.398867845535278s\n",
      "Run time for entity ssn in field ssn_name------------- 5.438135147094727s\n",
      "Run time for entity ssn in field ssn_fulladdress------------- 5.609981060028076s\n",
      "Run time for entity ssn in field ssn_name_dob------------- 5.574467897415161s\n",
      "Total run time: 1.9695887287457785min\n",
      "Run time for entity address in field ssn------------- 5.2926552295684814s\n",
      "Run time for entity address in field dob------------- 5.05185604095459s\n",
      "Run time for entity address in field homephone------------- 5.155841112136841s\n",
      "Run time for entity address in field name------------- 5.275128126144409s\n",
      "Run time for entity address in field fulladdress------------- 7.775647878646851s\n",
      "Run time for entity address in field name_dob------------- 5.631922006607056s\n",
      "Run time for entity address in field name_fulladdress------------- 5.6284589767456055s\n",
      "Run time for entity address in field name_homephone------------- 5.4950408935546875s\n",
      "Run time for entity address in field fulladdress_dob------------- 5.427908897399902s\n",
      "Run time for entity address in field fulladdress_homephone------------- 5.567378997802734s\n",
      "Run time for entity address in field dob_homephone------------- 5.502423048019409s\n",
      "Run time for entity address in field homephone_name_dob------------- 5.942358016967773s\n",
      "Run time for entity address in field ssn_firstname------------- 5.482790946960449s\n",
      "Run time for entity address in field ssn_lastname------------- 5.402300834655762s\n",
      "Run time for entity address in field ssn_address------------- 5.369241714477539s\n",
      "Run time for entity address in field ssn_zip5------------- 5.233181953430176s\n",
      "Run time for entity address in field ssn_dob------------- 5.4591522216796875s\n",
      "Run time for entity address in field ssn_homephone------------- 5.389235973358154s\n",
      "Run time for entity address in field ssn_name------------- 5.443784952163696s\n",
      "Run time for entity address in field ssn_fulladdress------------- 5.502929210662842s\n",
      "Run time for entity address in field ssn_name_dob------------- 9.356340885162354s\n",
      "Total run time: 3.976066168149312min\n",
      "Run time for entity dob in field ssn------------- 23.829656839370728s\n",
      "Run time for entity dob in field address------------- 24.373934268951416s\n",
      "Run time for entity dob in field homephone------------- 25.23708701133728s\n",
      "Run time for entity dob in field name------------- 24.64445471763611s\n",
      "Run time for entity dob in field fulladdress------------- 24.21897292137146s\n",
      "Run time for entity dob in field name_dob------------- 23.848017930984497s\n",
      "Run time for entity dob in field name_fulladdress------------- 24.697855234146118s\n",
      "Run time for entity dob in field name_homephone------------- 24.230571031570435s\n",
      "Run time for entity dob in field fulladdress_dob------------- 24.07649302482605s\n",
      "Run time for entity dob in field fulladdress_homephone------------- 25.03062415122986s\n",
      "Run time for entity dob in field dob_homephone------------- 23.923831939697266s\n",
      "Run time for entity dob in field homephone_name_dob------------- 24.3957839012146s\n",
      "Run time for entity dob in field ssn_firstname------------- 23.930849075317383s\n",
      "Run time for entity dob in field ssn_lastname------------- 24.36280608177185s\n",
      "Run time for entity dob in field ssn_address------------- 25.498909950256348s\n",
      "Run time for entity dob in field ssn_zip5------------- 24.036109924316406s\n",
      "Run time for entity dob in field ssn_dob------------- 32.01812791824341s\n",
      "Run time for entity dob in field ssn_homephone------------- 24.510445594787598s\n",
      "Run time for entity dob in field ssn_name------------- 24.306846141815186s\n",
      "Run time for entity dob in field ssn_fulladdress------------- 24.64395809173584s\n",
      "Run time for entity dob in field ssn_name_dob------------- 24.871197938919067s\n",
      "Total run time: 12.654221530755361min\n",
      "Run time for entity homephone in field ssn------------- 20.444516897201538s\n",
      "Run time for entity homephone in field address------------- 20.47015690803528s\n",
      "Run time for entity homephone in field dob------------- 21.957006216049194s\n",
      "Run time for entity homephone in field name------------- 20.77908492088318s\n",
      "Run time for entity homephone in field fulladdress------------- 20.16304898262024s\n",
      "Run time for entity homephone in field name_dob------------- 20.181943893432617s\n",
      "Run time for entity homephone in field name_fulladdress------------- 20.531404972076416s\n",
      "Run time for entity homephone in field name_homephone------------- 20.160494089126587s\n",
      "Run time for entity homephone in field fulladdress_dob------------- 20.18302607536316s\n",
      "Run time for entity homephone in field fulladdress_homephone------------- 20.28932285308838s\n",
      "Run time for entity homephone in field dob_homephone------------- 19.992203950881958s\n",
      "Run time for entity homephone in field homephone_name_dob------------- 27.150447130203247s\n",
      "Run time for entity homephone in field ssn_firstname------------- 21.226492881774902s\n",
      "Run time for entity homephone in field ssn_lastname------------- 20.32012176513672s\n",
      "Run time for entity homephone in field ssn_address------------- 20.377808094024658s\n",
      "Run time for entity homephone in field ssn_zip5------------- 19.743292808532715s\n",
      "Run time for entity homephone in field ssn_dob------------- 20.11007022857666s\n",
      "Run time for entity homephone in field ssn_homephone------------- 19.90498113632202s\n",
      "Run time for entity homephone in field ssn_name------------- 20.41730308532715s\n",
      "Run time for entity homephone in field ssn_fulladdress------------- 20.216047763824463s\n",
      "Run time for entity homephone in field ssn_name_dob------------- 20.60512685775757s\n",
      "Total run time: 19.90800038178762min\n",
      "Run time for entity name in field ssn------------- 6.25435209274292s\n",
      "Run time for entity name in field address------------- 6.1422600746154785s\n",
      "Run time for entity name in field dob------------- 5.787528991699219s\n",
      "Run time for entity name in field homephone------------- 5.844236850738525s\n",
      "Run time for entity name in field fulladdress------------- 6.114081859588623s\n",
      "Run time for entity name in field name_dob------------- 6.116708040237427s\n",
      "Run time for entity name in field name_fulladdress------------- 13.102417945861816s\n",
      "Run time for entity name in field name_homephone------------- 6.277244806289673s\n",
      "Run time for entity name in field fulladdress_dob------------- 6.26063084602356s\n",
      "Run time for entity name in field fulladdress_homephone------------- 6.157430648803711s\n",
      "Run time for entity name in field dob_homephone------------- 6.133558750152588s\n",
      "Run time for entity name in field homephone_name_dob------------- 6.261370897293091s\n",
      "Run time for entity name in field ssn_firstname------------- 6.24736213684082s\n",
      "Run time for entity name in field ssn_lastname------------- 6.114398002624512s\n",
      "Run time for entity name in field ssn_address------------- 6.099496126174927s\n",
      "Run time for entity name in field ssn_zip5------------- 6.394123077392578s\n",
      "Run time for entity name in field ssn_dob------------- 5.854130983352661s\n"
     ]
    },
    {
     "name": "stdout",
     "output_type": "stream",
     "text": [
      "Run time for entity name in field ssn_homephone------------- 6.327668905258179s\n",
      "Run time for entity name in field ssn_name------------- 6.838735103607178s\n",
      "Run time for entity name in field ssn_fulladdress------------- 7.214272737503052s\n",
      "Run time for entity name in field ssn_name_dob------------- 6.6076600551605225s\n",
      "Total run time: 22.21054096619288min\n",
      "Run time for entity fulladdress in field ssn------------- 5.62744402885437s\n",
      "Run time for entity fulladdress in field address------------- 15.442301034927368s\n",
      "Run time for entity fulladdress in field dob------------- 5.311520576477051s\n",
      "Run time for entity fulladdress in field homephone------------- 4.963632106781006s\n",
      "Run time for entity fulladdress in field name------------- 5.156949043273926s\n",
      "Run time for entity fulladdress in field name_dob------------- 5.739087104797363s\n",
      "Run time for entity fulladdress in field name_fulladdress------------- 5.789484024047852s\n",
      "Run time for entity fulladdress in field name_homephone------------- 5.605225324630737s\n",
      "Run time for entity fulladdress in field fulladdress_dob------------- 5.646862268447876s\n",
      "Run time for entity fulladdress in field fulladdress_homephone------------- 5.858275890350342s\n",
      "Run time for entity fulladdress in field dob_homephone------------- 5.4560346603393555s\n",
      "Run time for entity fulladdress in field homephone_name_dob------------- 5.7435877323150635s\n",
      "Run time for entity fulladdress in field ssn_firstname------------- 5.637657165527344s\n",
      "Run time for entity fulladdress in field ssn_lastname------------- 5.521416902542114s\n",
      "Run time for entity fulladdress in field ssn_address------------- 5.582793951034546s\n",
      "Run time for entity fulladdress in field ssn_zip5------------- 5.367619276046753s\n",
      "Run time for entity fulladdress in field ssn_dob------------- 5.6590540409088135s\n",
      "Run time for entity fulladdress in field ssn_homephone------------- 15.543694019317627s\n",
      "Run time for entity fulladdress in field ssn_name------------- 5.661879777908325s\n",
      "Run time for entity fulladdress in field ssn_fulladdress------------- 5.616328954696655s\n",
      "Run time for entity fulladdress in field ssn_name_dob------------- 6.09141206741333s\n",
      "Total run time: 24.49428984721502min\n",
      "Run time for entity name_dob in field ssn------------- 5.664182901382446s\n",
      "Run time for entity name_dob in field address------------- 5.524566888809204s\n",
      "Run time for entity name_dob in field dob------------- 5.699390172958374s\n",
      "Run time for entity name_dob in field homephone------------- 4.994318962097168s\n",
      "Run time for entity name_dob in field name------------- 4.994699954986572s\n",
      "Run time for entity name_dob in field fulladdress------------- 5.6932289600372314s\n",
      "Run time for entity name_dob in field name_fulladdress------------- 5.899351119995117s\n",
      "Run time for entity name_dob in field name_homephone------------- 5.789403200149536s\n",
      "Run time for entity name_dob in field fulladdress_dob------------- 5.691360950469971s\n",
      "Run time for entity name_dob in field fulladdress_homephone------------- 5.733520984649658s\n",
      "Run time for entity name_dob in field dob_homephone------------- 5.707756042480469s\n",
      "Run time for entity name_dob in field homephone_name_dob------------- 5.827757835388184s\n",
      "Run time for entity name_dob in field ssn_firstname------------- 16.27635097503662s\n",
      "Run time for entity name_dob in field ssn_lastname------------- 5.787881851196289s\n",
      "Run time for entity name_dob in field ssn_address------------- 5.88363790512085s\n",
      "Run time for entity name_dob in field ssn_zip5------------- 5.458617210388184s\n",
      "Run time for entity name_dob in field ssn_dob------------- 5.5258629322052s\n",
      "Run time for entity name_dob in field ssn_homephone------------- 5.605851888656616s\n",
      "Run time for entity name_dob in field ssn_name------------- 5.8644349575042725s\n",
      "Run time for entity name_dob in field ssn_fulladdress------------- 5.782773017883301s\n",
      "Run time for entity name_dob in field ssn_name_dob------------- 5.67851710319519s\n",
      "Total run time: 26.64576307932536min\n",
      "Run time for entity name_fulladdress in field ssn------------- 5.752561092376709s\n",
      "Run time for entity name_fulladdress in field address------------- 5.631153106689453s\n",
      "Run time for entity name_fulladdress in field dob------------- 4.974873781204224s\n",
      "Run time for entity name_fulladdress in field homephone------------- 4.945195913314819s\n",
      "Run time for entity name_fulladdress in field name------------- 5.049844026565552s\n",
      "Run time for entity name_fulladdress in field fulladdress------------- 6.307646989822388s\n",
      "Run time for entity name_fulladdress in field name_dob------------- 5.738947868347168s\n",
      "Run time for entity name_fulladdress in field name_homephone------------- 5.717779874801636s\n",
      "Run time for entity name_fulladdress in field fulladdress_dob------------- 19.719069004058838s\n",
      "Run time for entity name_fulladdress in field fulladdress_homephone------------- 5.8420569896698s\n",
      "Run time for entity name_fulladdress in field dob_homephone------------- 5.785100221633911s\n",
      "Run time for entity name_fulladdress in field homephone_name_dob------------- 6.247170925140381s\n",
      "Run time for entity name_fulladdress in field ssn_firstname------------- 5.685153961181641s\n",
      "Run time for entity name_fulladdress in field ssn_lastname------------- 5.631310701370239s\n",
      "Run time for entity name_fulladdress in field ssn_address------------- 5.656455993652344s\n",
      "Run time for entity name_fulladdress in field ssn_zip5------------- 5.497836112976074s\n",
      "Run time for entity name_fulladdress in field ssn_dob------------- 5.717251777648926s\n",
      "Run time for entity name_fulladdress in field ssn_homephone------------- 5.7129621505737305s\n",
      "Run time for entity name_fulladdress in field ssn_name------------- 5.858045816421509s\n",
      "Run time for entity name_fulladdress in field ssn_fulladdress------------- 5.98612117767334s\n",
      "Run time for entity name_fulladdress in field ssn_name_dob------------- 5.96241307258606s\n",
      "Total run time: 28.86950606505076min\n",
      "Run time for entity name_homephone in field ssn------------- 5.497061014175415s\n",
      "Run time for entity name_homephone in field address------------- 5.590033054351807s\n",
      "Run time for entity name_homephone in field dob------------- 4.896160125732422s\n",
      "Run time for entity name_homephone in field homephone------------- 19.643043994903564s\n",
      "Run time for entity name_homephone in field name------------- 5.505459785461426s\n",
      "Run time for entity name_homephone in field fulladdress------------- 5.925749063491821s\n",
      "Run time for entity name_homephone in field name_dob------------- 5.493688106536865s\n",
      "Run time for entity name_homephone in field name_fulladdress------------- 5.895269870758057s\n",
      "Run time for entity name_homephone in field fulladdress_dob------------- 5.323856830596924s\n",
      "Run time for entity name_homephone in field fulladdress_homephone------------- 4.676723003387451s\n",
      "Run time for entity name_homephone in field dob_homephone------------- 5.605445861816406s\n",
      "Run time for entity name_homephone in field homephone_name_dob------------- 5.806359052658081s\n",
      "Run time for entity name_homephone in field ssn_firstname------------- 5.668990850448608s\n",
      "Run time for entity name_homephone in field ssn_lastname------------- 5.661193132400513s\n",
      "Run time for entity name_homephone in field ssn_address------------- 5.611757040023804s\n",
      "Run time for entity name_homephone in field ssn_zip5------------- 5.4532270431518555s\n",
      "Run time for entity name_homephone in field ssn_dob------------- 5.776978015899658s\n",
      "Run time for entity name_homephone in field ssn_homephone------------- 5.6530492305755615s\n",
      "Run time for entity name_homephone in field ssn_name------------- 5.7251691818237305s\n",
      "Run time for entity name_homephone in field ssn_fulladdress------------- 24.4078688621521s\n",
      "Run time for entity name_homephone in field ssn_name_dob------------- 6.098622798919678s\n",
      "Total run time: 31.36817059914271min\n",
      "Run time for entity fulladdress_dob in field ssn------------- 5.445432901382446s\n",
      "Run time for entity fulladdress_dob in field address------------- 5.64275598526001s\n",
      "Run time for entity fulladdress_dob in field dob------------- 4.948040962219238s\n",
      "Run time for entity fulladdress_dob in field homephone------------- 4.870556116104126s\n",
      "Run time for entity fulladdress_dob in field name------------- 4.93582010269165s\n",
      "Run time for entity fulladdress_dob in field fulladdress------------- 5.721172094345093s\n"
     ]
    },
    {
     "name": "stdout",
     "output_type": "stream",
     "text": [
      "Run time for entity fulladdress_dob in field name_dob------------- 5.717871189117432s\n",
      "Run time for entity fulladdress_dob in field name_fulladdress------------- 6.122192859649658s\n",
      "Run time for entity fulladdress_dob in field name_homephone------------- 5.757802963256836s\n",
      "Run time for entity fulladdress_dob in field fulladdress_homephone------------- 5.604287147521973s\n",
      "Run time for entity fulladdress_dob in field dob_homephone------------- 5.572903394699097s\n",
      "Run time for entity fulladdress_dob in field homephone_name_dob------------- 5.916057825088501s\n",
      "Run time for entity fulladdress_dob in field ssn_firstname------------- 5.685755968093872s\n",
      "Run time for entity fulladdress_dob in field ssn_lastname------------- 5.538919925689697s\n",
      "Run time for entity fulladdress_dob in field ssn_address------------- 28.671241760253906s\n",
      "Run time for entity fulladdress_dob in field ssn_zip5------------- 5.745546102523804s\n",
      "Run time for entity fulladdress_dob in field ssn_dob------------- 5.2030029296875s\n",
      "Run time for entity fulladdress_dob in field ssn_homephone------------- 5.872364044189453s\n",
      "Run time for entity fulladdress_dob in field ssn_name------------- 6.039031028747559s\n",
      "Run time for entity fulladdress_dob in field ssn_fulladdress------------- 5.827977180480957s\n",
      "Run time for entity fulladdress_dob in field ssn_name_dob------------- 6.20327091217041s\n",
      "Total run time: 33.71897888183594min\n",
      "Run time for entity fulladdress_homephone in field ssn------------- 5.520236968994141s\n",
      "Run time for entity fulladdress_homephone in field address------------- 5.579812049865723s\n",
      "Run time for entity fulladdress_homephone in field dob------------- 5.024805784225464s\n",
      "Run time for entity fulladdress_homephone in field homephone------------- 4.88621711730957s\n",
      "Run time for entity fulladdress_homephone in field name------------- 5.22163987159729s\n",
      "Run time for entity fulladdress_homephone in field fulladdress------------- 5.898974180221558s\n",
      "Run time for entity fulladdress_homephone in field name_dob------------- 5.79445219039917s\n",
      "Run time for entity fulladdress_homephone in field name_fulladdress------------- 5.882177114486694s\n",
      "Run time for entity fulladdress_homephone in field name_homephone------------- 5.7475669384002686s\n",
      "Run time for entity fulladdress_homephone in field fulladdress_dob------------- 34.98150968551636s\n",
      "Run time for entity fulladdress_homephone in field dob_homephone------------- 6.056175231933594s\n",
      "Run time for entity fulladdress_homephone in field homephone_name_dob------------- 6.1074676513671875s\n",
      "Run time for entity fulladdress_homephone in field ssn_firstname------------- 5.931456804275513s\n",
      "Run time for entity fulladdress_homephone in field ssn_lastname------------- 5.865063190460205s\n",
      "Run time for entity fulladdress_homephone in field ssn_address------------- 5.836220979690552s\n",
      "Run time for entity fulladdress_homephone in field ssn_zip5------------- 5.596824884414673s\n",
      "Run time for entity fulladdress_homephone in field ssn_dob------------- 5.792140007019043s\n",
      "Run time for entity fulladdress_homephone in field ssn_homephone------------- 5.733213901519775s\n",
      "Run time for entity fulladdress_homephone in field ssn_name------------- 6.03394627571106s\n",
      "Run time for entity fulladdress_homephone in field ssn_fulladdress------------- 5.887603998184204s\n",
      "Run time for entity fulladdress_homephone in field ssn_name_dob------------- 6.007836103439331s\n",
      "Total run time: 36.20880293051402min\n",
      "Run time for entity dob_homephone in field ssn------------- 5.5277440547943115s\n",
      "Run time for entity dob_homephone in field address------------- 5.626670837402344s\n",
      "Run time for entity dob_homephone in field dob------------- 4.877469301223755s\n",
      "Run time for entity dob_homephone in field homephone------------- 4.820237874984741s\n",
      "Run time for entity dob_homephone in field name------------- 36.34742093086243s\n",
      "Run time for entity dob_homephone in field fulladdress------------- 6.772322654724121s\n",
      "Run time for entity dob_homephone in field name_dob------------- 6.169465065002441s\n",
      "Run time for entity dob_homephone in field name_fulladdress------------- 6.31915807723999s\n",
      "Run time for entity dob_homephone in field name_homephone------------- 6.543474197387695s\n",
      "Run time for entity dob_homephone in field fulladdress_dob------------- 6.052553176879883s\n",
      "Run time for entity dob_homephone in field fulladdress_homephone------------- 6.1293230056762695s\n",
      "Run time for entity dob_homephone in field homephone_name_dob------------- 6.253827095031738s\n",
      "Run time for entity dob_homephone in field ssn_firstname------------- 5.896239995956421s\n",
      "Run time for entity dob_homephone in field ssn_lastname------------- 5.896061897277832s\n",
      "Run time for entity dob_homephone in field ssn_address------------- 6.0909950733184814s\n",
      "Run time for entity dob_homephone in field ssn_zip5------------- 5.783859014511108s\n",
      "Run time for entity dob_homephone in field ssn_dob------------- 5.849074840545654s\n",
      "Run time for entity dob_homephone in field ssn_homephone------------- 5.966979026794434s\n",
      "Run time for entity dob_homephone in field ssn_name------------- 6.092693090438843s\n",
      "Run time for entity dob_homephone in field ssn_fulladdress------------- 6.171067953109741s\n",
      "Run time for entity dob_homephone in field ssn_name_dob------------- 6.308925151824951s\n",
      "Total run time: 38.800484065214796min\n",
      "Run time for entity homephone_name_dob in field ssn------------- 43.06186819076538s\n",
      "Run time for entity homephone_name_dob in field address------------- 6.456820964813232s\n",
      "Run time for entity homephone_name_dob in field dob------------- 5.4175169467926025s\n",
      "Run time for entity homephone_name_dob in field homephone------------- 5.391772031784058s\n",
      "Run time for entity homephone_name_dob in field name------------- 5.508636951446533s\n",
      "Run time for entity homephone_name_dob in field fulladdress------------- 6.192633152008057s\n",
      "Run time for entity homephone_name_dob in field name_dob------------- 6.248029947280884s\n",
      "Run time for entity homephone_name_dob in field name_fulladdress------------- 6.51986289024353s\n",
      "Run time for entity homephone_name_dob in field name_homephone------------- 6.190202951431274s\n",
      "Run time for entity homephone_name_dob in field fulladdress_dob------------- 6.295961856842041s\n",
      "Run time for entity homephone_name_dob in field fulladdress_homephone------------- 6.332564353942871s\n",
      "Run time for entity homephone_name_dob in field dob_homephone------------- 6.1370580196380615s\n",
      "Run time for entity homephone_name_dob in field ssn_firstname------------- 6.201656818389893s\n",
      "Run time for entity homephone_name_dob in field ssn_lastname------------- 6.250137090682983s\n",
      "Run time for entity homephone_name_dob in field ssn_address------------- 6.185188055038452s\n",
      "Run time for entity homephone_name_dob in field ssn_zip5------------- 6.081552982330322s\n",
      "Run time for entity homephone_name_dob in field ssn_dob------------- 48.10259509086609s\n",
      "Run time for entity homephone_name_dob in field ssn_homephone------------- 4.967533826828003s\n",
      "Run time for entity homephone_name_dob in field ssn_name------------- 6.9136927127838135s\n",
      "Run time for entity homephone_name_dob in field ssn_fulladdress------------- 6.183980941772461s\n",
      "Run time for entity homephone_name_dob in field ssn_name_dob------------- 6.703854084014893s\n",
      "Total run time: 42.25626078049342min\n",
      "Run time for entity ssn_firstname in field ssn------------- 5.816940784454346s\n",
      "Run time for entity ssn_firstname in field address------------- 5.772997140884399s\n",
      "Run time for entity ssn_firstname in field dob------------- 5.3916449546813965s\n",
      "Run time for entity ssn_firstname in field homephone------------- 5.275798082351685s\n",
      "Run time for entity ssn_firstname in field name------------- 5.4723241329193115s\n",
      "Run time for entity ssn_firstname in field fulladdress------------- 5.962638854980469s\n",
      "Run time for entity ssn_firstname in field name_dob------------- 5.926612854003906s\n",
      "Run time for entity ssn_firstname in field name_fulladdress------------- 6.136866092681885s\n",
      "Run time for entity ssn_firstname in field name_homephone------------- 5.843621015548706s\n",
      "Run time for entity ssn_firstname in field fulladdress_dob------------- 5.973644018173218s\n",
      "Run time for entity ssn_firstname in field fulladdress_homephone------------- 6.007184982299805s\n",
      "Run time for entity ssn_firstname in field dob_homephone------------- 51.81520104408264s\n"
     ]
    },
    {
     "name": "stdout",
     "output_type": "stream",
     "text": [
      "Run time for entity ssn_firstname in field homephone_name_dob------------- 6.585417985916138s\n",
      "Run time for entity ssn_firstname in field ssn_lastname------------- 6.08056116104126s\n",
      "Run time for entity ssn_firstname in field ssn_address------------- 6.286075115203857s\n",
      "Run time for entity ssn_firstname in field ssn_zip5------------- 5.864761829376221s\n",
      "Run time for entity ssn_firstname in field ssn_dob------------- 5.97286581993103s\n",
      "Run time for entity ssn_firstname in field ssn_homephone------------- 5.949010848999023s\n",
      "Run time for entity ssn_firstname in field ssn_name------------- 5.958308935165405s\n",
      "Run time for entity ssn_firstname in field ssn_fulladdress------------- 6.022696018218994s\n",
      "Run time for entity ssn_firstname in field ssn_name_dob------------- 6.147833824157715s\n",
      "Total run time: 45.094069314002994min\n",
      "Run time for entity ssn_lastname in field ssn------------- 5.7345709800720215s\n",
      "Run time for entity ssn_lastname in field address------------- 5.804399251937866s\n",
      "Run time for entity ssn_lastname in field dob------------- 5.540838003158569s\n",
      "Run time for entity ssn_lastname in field homephone------------- 5.283077716827393s\n",
      "Run time for entity ssn_lastname in field name------------- 5.481950998306274s\n",
      "Run time for entity ssn_lastname in field fulladdress------------- 5.946843862533569s\n",
      "Run time for entity ssn_lastname in field name_dob------------- 54.4970428943634s\n",
      "Run time for entity ssn_lastname in field name_fulladdress------------- 6.746402740478516s\n",
      "Run time for entity ssn_lastname in field name_homephone------------- 5.033484935760498s\n",
      "Run time for entity ssn_lastname in field fulladdress_dob------------- 6.3616650104522705s\n",
      "Run time for entity ssn_lastname in field fulladdress_homephone------------- 4.706539869308472s\n",
      "Run time for entity ssn_lastname in field dob_homephone------------- 6.051098823547363s\n",
      "Run time for entity ssn_lastname in field homephone_name_dob------------- 6.4061830043792725s\n",
      "Run time for entity ssn_lastname in field ssn_firstname------------- 5.9598548412323s\n",
      "Run time for entity ssn_lastname in field ssn_address------------- 5.833141803741455s\n",
      "Run time for entity ssn_lastname in field ssn_zip5------------- 5.727787971496582s\n",
      "Run time for entity ssn_lastname in field ssn_dob------------- 5.752641201019287s\n",
      "Run time for entity ssn_lastname in field ssn_homephone------------- 5.513542175292969s\n",
      "Run time for entity ssn_lastname in field ssn_name------------- 5.852817058563232s\n",
      "Run time for entity ssn_lastname in field ssn_fulladdress------------- 5.810729265213013s\n",
      "Run time for entity ssn_lastname in field ssn_name_dob------------- 5.783192157745361s\n",
      "Total run time: 47.924597680568695min\n",
      "Run time for entity ssn_address in field ssn------------- 5.587963342666626s\n",
      "Run time for entity ssn_address in field address------------- 55.84712100028992s\n",
      "Run time for entity ssn_address in field dob------------- 5.624221086502075s\n",
      "Run time for entity ssn_address in field homephone------------- 5.305840015411377s\n",
      "Run time for entity ssn_address in field name------------- 5.478982925415039s\n",
      "Run time for entity ssn_address in field fulladdress------------- 5.841604948043823s\n",
      "Run time for entity ssn_address in field name_dob------------- 6.283926010131836s\n",
      "Run time for entity ssn_address in field name_fulladdress------------- 6.497040033340454s\n",
      "Run time for entity ssn_address in field name_homephone------------- 6.155246257781982s\n",
      "Run time for entity ssn_address in field fulladdress_dob------------- 6.44474983215332s\n",
      "Run time for entity ssn_address in field fulladdress_homephone------------- 6.209048748016357s\n",
      "Run time for entity ssn_address in field dob_homephone------------- 6.1057116985321045s\n",
      "Run time for entity ssn_address in field homephone_name_dob------------- 6.360047101974487s\n",
      "Run time for entity ssn_address in field ssn_firstname------------- 5.726790904998779s\n",
      "Run time for entity ssn_address in field ssn_lastname------------- 6.124457120895386s\n",
      "Run time for entity ssn_address in field ssn_zip5------------- 5.884596109390259s\n",
      "Run time for entity ssn_address in field ssn_dob------------- 5.977573871612549s\n",
      "Run time for entity ssn_address in field ssn_homephone------------- 60.00306510925293s\n",
      "Run time for entity ssn_address in field ssn_name------------- 6.614008188247681s\n",
      "Run time for entity ssn_address in field ssn_fulladdress------------- 6.520127058029175s\n",
      "Run time for entity ssn_address in field ssn_name_dob------------- 6.540764093399048s\n",
      "Total run time: 51.77691541512807min\n",
      "Run time for entity ssn_zip5 in field ssn------------- 6.1066107749938965s\n",
      "Run time for entity ssn_zip5 in field address------------- 6.056665897369385s\n",
      "Run time for entity ssn_zip5 in field dob------------- 5.280376195907593s\n",
      "Run time for entity ssn_zip5 in field homephone------------- 5.326050758361816s\n",
      "Run time for entity ssn_zip5 in field name------------- 5.537347793579102s\n",
      "Run time for entity ssn_zip5 in field fulladdress------------- 6.279254913330078s\n",
      "Run time for entity ssn_zip5 in field name_dob------------- 6.671859979629517s\n",
      "Run time for entity ssn_zip5 in field name_fulladdress------------- 6.866902112960815s\n",
      "Run time for entity ssn_zip5 in field name_homephone------------- 6.261427879333496s\n",
      "Run time for entity ssn_zip5 in field fulladdress_dob------------- 6.204639911651611s\n",
      "Run time for entity ssn_zip5 in field fulladdress_homephone------------- 6.247387886047363s\n",
      "Run time for entity ssn_zip5 in field dob_homephone------------- 5.968302011489868s\n",
      "Run time for entity ssn_zip5 in field homephone_name_dob------------- 6.523436069488525s\n",
      "Run time for entity ssn_zip5 in field ssn_firstname------------- 65.18892478942871s\n",
      "Run time for entity ssn_zip5 in field ssn_lastname------------- 6.146045207977295s\n",
      "Run time for entity ssn_zip5 in field ssn_address------------- 6.2871129512786865s\n",
      "Run time for entity ssn_zip5 in field ssn_dob------------- 4.878715753555298s\n",
      "Run time for entity ssn_zip5 in field ssn_homephone------------- 6.449196815490723s\n",
      "Run time for entity ssn_zip5 in field ssn_name------------- 6.39727783203125s\n",
      "Run time for entity ssn_zip5 in field ssn_fulladdress------------- 6.229140758514404s\n",
      "Run time for entity ssn_zip5 in field ssn_name_dob------------- 6.330491781234741s\n",
      "Total run time: 54.89761693477631min\n",
      "Run time for entity ssn_dob in field ssn------------- 5.9487690925598145s\n",
      "Run time for entity ssn_dob in field address------------- 6.14999794960022s\n",
      "Run time for entity ssn_dob in field dob------------- 5.413025140762329s\n",
      "Run time for entity ssn_dob in field homephone------------- 5.230287790298462s\n",
      "Run time for entity ssn_dob in field name------------- 5.532908201217651s\n",
      "Run time for entity ssn_dob in field fulladdress------------- 6.183035850524902s\n",
      "Run time for entity ssn_dob in field name_dob------------- 6.170485019683838s\n",
      "Run time for entity ssn_dob in field name_fulladdress------------- 6.413576126098633s\n",
      "Run time for entity ssn_dob in field name_homephone------------- 66.10541796684265s\n",
      "Run time for entity ssn_dob in field fulladdress_dob------------- 6.862054109573364s\n",
      "Run time for entity ssn_dob in field fulladdress_homephone------------- 6.716980934143066s\n",
      "Run time for entity ssn_dob in field dob_homephone------------- 6.468274831771851s\n",
      "Run time for entity ssn_dob in field homephone_name_dob------------- 6.494280099868774s\n",
      "Run time for entity ssn_dob in field ssn_firstname------------- 6.28860068321228s\n",
      "Run time for entity ssn_dob in field ssn_lastname------------- 6.122105836868286s\n",
      "Run time for entity ssn_dob in field ssn_address------------- 6.37609601020813s\n",
      "Run time for entity ssn_dob in field ssn_zip5------------- 6.086059093475342s\n",
      "Run time for entity ssn_dob in field ssn_homephone------------- 6.163893938064575s\n",
      "Run time for entity ssn_dob in field ssn_name------------- 6.265384912490845s\n",
      "Run time for entity ssn_dob in field ssn_fulladdress------------- 6.2339160442352295s\n",
      "Run time for entity ssn_dob in field ssn_name_dob------------- 6.36486291885376s\n",
      "Total run time: 58.05751204888026min\n",
      "Run time for entity ssn_homephone in field ssn------------- 5.9625842571258545s\n",
      "Run time for entity ssn_homephone in field address------------- 6.061933994293213s\n",
      "Run time for entity ssn_homephone in field dob------------- 5.398981809616089s\n"
     ]
    },
    {
     "name": "stdout",
     "output_type": "stream",
     "text": [
      "Run time for entity ssn_homephone in field homephone------------- 66.56952810287476s\n",
      "Run time for entity ssn_homephone in field name------------- 5.427810907363892s\n",
      "Run time for entity ssn_homephone in field fulladdress------------- 6.424215078353882s\n",
      "Run time for entity ssn_homephone in field name_dob------------- 6.577712774276733s\n",
      "Run time for entity ssn_homephone in field name_fulladdress------------- 6.469271898269653s\n",
      "Run time for entity ssn_homephone in field name_homephone------------- 6.455654859542847s\n",
      "Run time for entity ssn_homephone in field fulladdress_dob------------- 6.528120040893555s\n",
      "Run time for entity ssn_homephone in field fulladdress_homephone------------- 6.28090500831604s\n",
      "Run time for entity ssn_homephone in field dob_homephone------------- 6.199465036392212s\n",
      "Run time for entity ssn_homephone in field homephone_name_dob------------- 6.349950313568115s\n",
      "Run time for entity ssn_homephone in field ssn_firstname------------- 6.2431769371032715s\n",
      "Run time for entity ssn_homephone in field ssn_lastname------------- 6.202301263809204s\n",
      "Run time for entity ssn_homephone in field ssn_address------------- 6.362722158432007s\n",
      "Run time for entity ssn_homephone in field ssn_zip5------------- 5.907624006271362s\n",
      "Run time for entity ssn_homephone in field ssn_dob------------- 6.049929141998291s\n",
      "Run time for entity ssn_homephone in field ssn_name------------- 6.19096302986145s\n",
      "Run time for entity ssn_homephone in field ssn_fulladdress------------- 69.82089114189148s\n",
      "Run time for entity ssn_homephone in field ssn_name_dob------------- 6.967758655548096s\n",
      "Total run time: 62.29844741423925min\n",
      "Run time for entity ssn_name in field ssn------------- 6.1270318031311035s\n",
      "Run time for entity ssn_name in field address------------- 6.321096897125244s\n",
      "Run time for entity ssn_name in field dob------------- 5.395672798156738s\n",
      "Run time for entity ssn_name in field homephone------------- 5.596669912338257s\n",
      "Run time for entity ssn_name in field name------------- 5.647972822189331s\n",
      "Run time for entity ssn_name in field fulladdress------------- 6.103034019470215s\n",
      "Run time for entity ssn_name in field name_dob------------- 6.147270202636719s\n",
      "Run time for entity ssn_name in field name_fulladdress------------- 6.29350209236145s\n",
      "Run time for entity ssn_name in field name_homephone------------- 6.185686826705933s\n",
      "Run time for entity ssn_name in field fulladdress_dob------------- 6.008760690689087s\n",
      "Run time for entity ssn_name in field fulladdress_homephone------------- 5.996214151382446s\n",
      "Run time for entity ssn_name in field dob_homephone------------- 6.111474275588989s\n",
      "Run time for entity ssn_name in field homephone_name_dob------------- 6.178579092025757s\n",
      "Run time for entity ssn_name in field ssn_firstname------------- 6.071396112442017s\n",
      "Run time for entity ssn_name in field ssn_lastname------------- 72.94542384147644s\n",
      "Run time for entity ssn_name in field ssn_address------------- 6.714365005493164s\n",
      "Run time for entity ssn_name in field ssn_zip5------------- 6.081070899963379s\n",
      "Run time for entity ssn_name in field ssn_dob------------- 6.409132957458496s\n",
      "Run time for entity ssn_name in field ssn_homephone------------- 6.150597095489502s\n",
      "Run time for entity ssn_name in field ssn_fulladdress------------- 6.292204856872559s\n",
      "Run time for entity ssn_name in field ssn_name_dob------------- 6.2522900104522705s\n",
      "Total run time: 65.54902081489563min\n",
      "Run time for entity ssn_fulladdress in field ssn------------- 5.963628053665161s\n",
      "Run time for entity ssn_fulladdress in field address------------- 6.151040077209473s\n",
      "Run time for entity ssn_fulladdress in field dob------------- 5.40458083152771s\n",
      "Run time for entity ssn_fulladdress in field homephone------------- 5.357616186141968s\n",
      "Run time for entity ssn_fulladdress in field name------------- 5.496267795562744s\n",
      "Run time for entity ssn_fulladdress in field fulladdress------------- 6.090642929077148s\n",
      "Run time for entity ssn_fulladdress in field name_dob------------- 6.421066999435425s\n",
      "Run time for entity ssn_fulladdress in field name_fulladdress------------- 6.5989110469818115s\n",
      "Run time for entity ssn_fulladdress in field name_homephone------------- 6.400834083557129s\n",
      "Run time for entity ssn_fulladdress in field fulladdress_dob------------- 74.75732707977295s\n",
      "Run time for entity ssn_fulladdress in field fulladdress_homephone------------- 7.293812036514282s\n",
      "Run time for entity ssn_fulladdress in field dob_homephone------------- 6.370780944824219s\n",
      "Run time for entity ssn_fulladdress in field homephone_name_dob------------- 6.57439112663269s\n",
      "Run time for entity ssn_fulladdress in field ssn_firstname------------- 6.3229758739471436s\n",
      "Run time for entity ssn_fulladdress in field ssn_lastname------------- 6.173155069351196s\n",
      "Run time for entity ssn_fulladdress in field ssn_address------------- 6.300856828689575s\n",
      "Run time for entity ssn_fulladdress in field ssn_zip5------------- 6.085768222808838s\n",
      "Run time for entity ssn_fulladdress in field ssn_dob------------- 6.006847381591797s\n",
      "Run time for entity ssn_fulladdress in field ssn_homephone------------- 6.134721040725708s\n",
      "Run time for entity ssn_fulladdress in field ssn_name------------- 6.415395021438599s\n",
      "Run time for entity ssn_fulladdress in field ssn_name_dob------------- 6.378772258758545s\n",
      "Total run time: 68.86078604857127min\n",
      "Run time for entity ssn_name_dob in field ssn------------- 5.875380992889404s\n",
      "Run time for entity ssn_name_dob in field address------------- 5.9922590255737305s\n",
      "Run time for entity ssn_name_dob in field dob------------- 5.301538944244385s\n",
      "Run time for entity ssn_name_dob in field homephone------------- 5.806926250457764s\n",
      "Run time for entity ssn_name_dob in field name------------- 5.546297073364258s\n",
      "Run time for entity ssn_name_dob in field fulladdress------------- 78.13855314254761s\n",
      "Run time for entity ssn_name_dob in field name_dob------------- 6.547991037368774s\n",
      "Run time for entity ssn_name_dob in field name_fulladdress------------- 6.560741901397705s\n",
      "Run time for entity ssn_name_dob in field name_homephone------------- 6.56292986869812s\n",
      "Run time for entity ssn_name_dob in field fulladdress_dob------------- 6.3469078540802s\n",
      "Run time for entity ssn_name_dob in field fulladdress_homephone------------- 6.478171110153198s\n",
      "Run time for entity ssn_name_dob in field dob_homephone------------- 6.337295055389404s\n",
      "Run time for entity ssn_name_dob in field homephone_name_dob------------- 6.566758871078491s\n",
      "Run time for entity ssn_name_dob in field ssn_firstname------------- 6.2069251537323s\n",
      "Run time for entity ssn_name_dob in field ssn_lastname------------- 6.147742033004761s\n",
      "Run time for entity ssn_name_dob in field ssn_address------------- 6.247071981430054s\n",
      "Run time for entity ssn_name_dob in field ssn_zip5------------- 6.081588983535767s\n",
      "Run time for entity ssn_name_dob in field ssn_dob------------- 6.052490949630737s\n",
      "Run time for entity ssn_name_dob in field ssn_homephone------------- 6.169179916381836s\n",
      "Run time for entity ssn_name_dob in field ssn_name------------- 6.368912935256958s\n",
      "Run time for entity ssn_name_dob in field ssn_fulladdress------------- 6.386307001113892s\n",
      "Total run time: 72.22289698123932min\n"
     ]
    }
   ],
   "source": [
    "# modified based on the prior for loop\n",
    "# this takes around 70 min to run\n",
    "# replaced 0 days with 60 days\n",
    "begin = time.time()\n",
    "for entity in attributes:\n",
    "    for field in attributes:\n",
    "        st = time.time()\n",
    "        if field == entity:\n",
    "            continue\n",
    "        else:\n",
    "            df_c = df1[['record', 'date', entity]]\n",
    "            df_d = df1[['check_record', 'check_date', entity,field]]\n",
    "            temp = pd.merge(df_c, df_d, left_on=entity, right_on=entity)\n",
    "\n",
    "        # number of unique for particular field\n",
    "        for offset_t in [1, 3, 7, 14, 30, 60]:\n",
    "            count_day_df = temp[(temp.check_date >= (temp.date - dt.timedelta(offset_t)))\n",
    "                                & (temp.record >= temp.check_record)]\n",
    "            col_name = f'{entity}_unique_count_for_{field}_{offset_t}'\n",
    "            mapper = count_day_df.groupby(['record'])[field].nunique()\n",
    "            final[col_name] = final.record.map(mapper)\n",
    "\n",
    "        print(f'Run time for entity {entity} in field {field}------------- {time.time() - st}s')\n",
    "\n",
    "    print(f'Total run time: {(time.time() - begin) / 60}min')"
   ]
  },
  {
   "cell_type": "code",
   "execution_count": 20,
   "id": "critical-savannah",
   "metadata": {
    "ExecuteTime": {
     "end_time": "2021-03-04T08:38:33.703750Z",
     "start_time": "2021-03-04T08:38:33.689452Z"
    }
   },
   "outputs": [
    {
     "data": {
      "text/plain": [
       "(1000000, 3132)"
      ]
     },
     "execution_count": 20,
     "metadata": {},
     "output_type": "execute_result"
    }
   ],
   "source": [
    "final.shape"
   ]
  },
  {
   "cell_type": "code",
   "execution_count": 21,
   "id": "devoted-arkansas",
   "metadata": {
    "ExecuteTime": {
     "end_time": "2021-03-04T08:48:49.579786Z",
     "start_time": "2021-03-04T08:39:04.432522Z"
    }
   },
   "outputs": [],
   "source": [
    "final.to_csv('final_candidate_variables.csv')"
   ]
  },
  {
   "cell_type": "code",
   "execution_count": 22,
   "id": "first-anger",
   "metadata": {
    "ExecuteTime": {
     "end_time": "2021-03-04T08:52:01.492697Z",
     "start_time": "2021-03-04T08:50:02.458181Z"
    }
   },
   "outputs": [],
   "source": [
    "output = final.copy()"
   ]
  },
  {
   "cell_type": "code",
   "execution_count": 25,
   "id": "statutory-schedule",
   "metadata": {
    "ExecuteTime": {
     "end_time": "2021-03-04T08:58:52.960969Z",
     "start_time": "2021-03-04T08:57:06.275060Z"
    }
   },
   "outputs": [],
   "source": [
    "final_output = output.describe().transpose()"
   ]
  },
  {
   "cell_type": "code",
   "execution_count": 28,
   "id": "magnetic-pattern",
   "metadata": {
    "ExecuteTime": {
     "end_time": "2021-03-04T09:02:43.110508Z",
     "start_time": "2021-03-04T09:02:43.106842Z"
    }
   },
   "outputs": [],
   "source": [
    "final_output = final_output[['mean', 'std', 'min','max']]"
   ]
  },
  {
   "cell_type": "code",
   "execution_count": 29,
   "id": "considered-wilson",
   "metadata": {
    "ExecuteTime": {
     "end_time": "2021-03-04T09:02:50.011232Z",
     "start_time": "2021-03-04T09:02:50.002717Z"
    }
   },
   "outputs": [
    {
     "data": {
      "text/html": [
       "<div>\n",
       "<style scoped>\n",
       "    .dataframe tbody tr th:only-of-type {\n",
       "        vertical-align: middle;\n",
       "    }\n",
       "\n",
       "    .dataframe tbody tr th {\n",
       "        vertical-align: top;\n",
       "    }\n",
       "\n",
       "    .dataframe thead th {\n",
       "        text-align: right;\n",
       "    }\n",
       "</style>\n",
       "<table border=\"1\" class=\"dataframe\">\n",
       "  <thead>\n",
       "    <tr style=\"text-align: right;\">\n",
       "      <th></th>\n",
       "      <th>mean</th>\n",
       "      <th>std</th>\n",
       "      <th>min</th>\n",
       "      <th>max</th>\n",
       "    </tr>\n",
       "  </thead>\n",
       "  <tbody>\n",
       "    <tr>\n",
       "      <th>record</th>\n",
       "      <td>500000.500000</td>\n",
       "      <td>288675.278933</td>\n",
       "      <td>1.00000</td>\n",
       "      <td>1000000.000000</td>\n",
       "    </tr>\n",
       "    <tr>\n",
       "      <th>fraud_label</th>\n",
       "      <td>0.014393</td>\n",
       "      <td>0.119104</td>\n",
       "      <td>0.00000</td>\n",
       "      <td>1.000000</td>\n",
       "    </tr>\n",
       "    <tr>\n",
       "      <th>dow_risk</th>\n",
       "      <td>0.014410</td>\n",
       "      <td>0.000624</td>\n",
       "      <td>0.01348</td>\n",
       "      <td>0.015169</td>\n",
       "    </tr>\n",
       "    <tr>\n",
       "      <th>ssn_day_since</th>\n",
       "      <td>327.100964</td>\n",
       "      <td>96.645429</td>\n",
       "      <td>0.00000</td>\n",
       "      <td>365.000000</td>\n",
       "    </tr>\n",
       "    <tr>\n",
       "      <th>ssn_count_0</th>\n",
       "      <td>1.007305</td>\n",
       "      <td>0.223356</td>\n",
       "      <td>1.00000</td>\n",
       "      <td>21.000000</td>\n",
       "    </tr>\n",
       "  </tbody>\n",
       "</table>\n",
       "</div>"
      ],
      "text/plain": [
       "                        mean            std      min             max\n",
       "record         500000.500000  288675.278933  1.00000  1000000.000000\n",
       "fraud_label         0.014393       0.119104  0.00000        1.000000\n",
       "dow_risk            0.014410       0.000624  0.01348        0.015169\n",
       "ssn_day_since     327.100964      96.645429  0.00000      365.000000\n",
       "ssn_count_0         1.007305       0.223356  1.00000       21.000000"
      ]
     },
     "execution_count": 29,
     "metadata": {},
     "output_type": "execute_result"
    }
   ],
   "source": [
    "final_output.head()"
   ]
  },
  {
   "cell_type": "code",
   "execution_count": 30,
   "id": "regulated-accommodation",
   "metadata": {
    "ExecuteTime": {
     "end_time": "2021-03-04T09:03:22.173892Z",
     "start_time": "2021-03-04T09:03:22.149399Z"
    }
   },
   "outputs": [],
   "source": [
    "final_output.to_csv('candidate_var_summary_stats.csv')"
   ]
  }
 ],
 "metadata": {
  "kernelspec": {
   "display_name": "Python 3",
   "language": "python",
   "name": "python3"
  },
  "language_info": {
   "codemirror_mode": {
    "name": "ipython",
    "version": 3
   },
   "file_extension": ".py",
   "mimetype": "text/x-python",
   "name": "python",
   "nbconvert_exporter": "python",
   "pygments_lexer": "ipython3",
   "version": "3.8.3"
  }
 },
 "nbformat": 4,
 "nbformat_minor": 5
}
