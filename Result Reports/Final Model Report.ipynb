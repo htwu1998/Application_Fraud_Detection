{
 "cells": [
  {
   "cell_type": "markdown",
   "id": "empty-raleigh",
   "metadata": {},
   "source": [
    "### Load Libraries"
   ]
  },
  {
   "cell_type": "code",
   "execution_count": 1,
   "id": "major-empty",
   "metadata": {
    "ExecuteTime": {
     "end_time": "2021-03-24T06:13:56.236425Z",
     "start_time": "2021-03-24T06:13:51.854982Z"
    }
   },
   "outputs": [
    {
     "name": "stdout",
     "output_type": "stream",
     "text": [
      "LOAD DURATION: 0:00:04.371661\n"
     ]
    }
   ],
   "source": [
    "# Load libraries\n",
    "import datetime as dt\n",
    "from datetime import datetime\n",
    "import time \n",
    "import calendar\n",
    "start_time = datetime.now()\n",
    "\n",
    "import pandas as pd\n",
    "import numpy as np\n",
    "import matplotlib.pyplot as plt\n",
    "import seaborn as sns\n",
    "%matplotlib inline\n",
    "\n",
    "import scipy.stats as sps\n",
    "import random\n",
    "\n",
    "from sklearn.model_selection import train_test_split\n",
    "from sklearn.linear_model import LogisticRegression\n",
    "from sklearn.linear_model import LogisticRegressionCV\n",
    "from sklearn.feature_selection import RFECV\n",
    "from sklearn.model_selection import KFold\n",
    "\n",
    "from sklearn.tree import DecisionTreeClassifier\n",
    "from sklearn.ensemble import RandomForestClassifier\n",
    "from sklearn.ensemble import GradientBoostingClassifier\n",
    "from sklearn.neural_network import MLPClassifier\n",
    "from sklearn.neighbors import KNeighborsClassifier\n",
    "from sklearn.svm import SVC\n",
    "from sklearn.naive_bayes import GaussianNB\n",
    "\n",
    "from sklearn.ensemble import StackingClassifier\n",
    "\n",
    "import keras\n",
    "from imblearn.over_sampling import SMOTE\n",
    "\n",
    "import math\n",
    "\n",
    "\n",
    "print('LOAD DURATION:',datetime.now() - start_time)"
   ]
  },
  {
   "cell_type": "markdown",
   "id": "flush-saint",
   "metadata": {},
   "source": [
    "### Load Data"
   ]
  },
  {
   "cell_type": "code",
   "execution_count": 2,
   "id": "acceptable-surfing",
   "metadata": {
    "ExecuteTime": {
     "end_time": "2021-03-23T21:58:40.442210Z",
     "start_time": "2021-03-23T21:58:38.963493Z"
    }
   },
   "outputs": [
    {
     "name": "stdout",
     "output_type": "stream",
     "text": [
      "CPU times: user 1.25 s, sys: 229 ms, total: 1.47 s\n",
      "Wall time: 1.48 s\n"
     ]
    }
   ],
   "source": [
    "%%time\n",
    "# load the data\n",
    "df = pd.read_csv('train_test.csv')\n",
    "oot = pd.read_csv('oot.csv')"
   ]
  },
  {
   "cell_type": "code",
   "execution_count": 3,
   "id": "egyptian-letters",
   "metadata": {
    "ExecuteTime": {
     "end_time": "2021-03-23T21:58:40.575900Z",
     "start_time": "2021-03-23T21:58:40.444673Z"
    }
   },
   "outputs": [],
   "source": [
    "X = df.drop(columns=['fraud_label'])\n",
    "y = df['fraud_label']\n",
    "\n",
    "oot_x = oot.drop(columns=['fraud_label'])\n",
    "oot_y = oot['fraud_label']"
   ]
  },
  {
   "cell_type": "code",
   "execution_count": 4,
   "id": "utility-farmer",
   "metadata": {
    "ExecuteTime": {
     "end_time": "2021-03-23T21:58:40.857809Z",
     "start_time": "2021-03-23T21:58:40.578232Z"
    }
   },
   "outputs": [],
   "source": [
    "# train_test_split\n",
    "X_train, X_test, y_train, y_test = train_test_split(X, y, test_size=0.25)"
   ]
  },
  {
   "cell_type": "markdown",
   "id": "assigned-liquid",
   "metadata": {},
   "source": [
    "**FDR Function**"
   ]
  },
  {
   "cell_type": "code",
   "execution_count": 5,
   "id": "acceptable-opening",
   "metadata": {
    "ExecuteTime": {
     "end_time": "2021-03-23T21:58:40.864903Z",
     "start_time": "2021-03-23T21:58:40.859980Z"
    }
   },
   "outputs": [],
   "source": [
    "# create functions to calculate fdr\n",
    "def fdr_cal(x_data, y_data, model_choice):\n",
    "    model = model_choice\n",
    "    pop = int(round(len(x_data)*0.03))\n",
    "    result = pd.DataFrame(model.predict_proba(x_data),columns=['prob_0', 'prob_1'])\n",
    "    temp = x_data.copy()\n",
    "    temp['fraud_label'] = y_data\n",
    "    temp['prob_1']= list(result.prob_1)\n",
    "    temp0 = temp.sort_values('prob_1', ascending=False)\n",
    "    temp1 = temp0.head(pop)\n",
    "    fdr = temp1.fraud_label.sum() / y_data.sum()\n",
    "    \n",
    "    return fdr"
   ]
  },
  {
   "cell_type": "code",
   "execution_count": 6,
   "id": "german-intention",
   "metadata": {
    "ExecuteTime": {
     "end_time": "2021-03-23T21:58:40.871664Z",
     "start_time": "2021-03-23T21:58:40.866773Z"
    }
   },
   "outputs": [],
   "source": [
    "# create functions to calculate fdr\n",
    "def final_results(x_data, y_data, model_choice):\n",
    "    model = model_choice\n",
    "    result = pd.DataFrame(model.predict_proba(x_data),columns=['prob_0', 'prob_1'])\n",
    "    temp = x_data.copy()\n",
    "    temp['fraud_label'] = y_data\n",
    "    temp['prob_1']= list(result.prob_1)\n",
    "    temp0 = temp.sort_values('prob_1', ascending=False)\n",
    "    \n",
    "    return temp0"
   ]
  },
  {
   "cell_type": "code",
   "execution_count": 7,
   "id": "colonial-agency",
   "metadata": {
    "ExecuteTime": {
     "end_time": "2021-03-23T22:02:20.420183Z",
     "start_time": "2021-03-23T21:58:40.873584Z"
    }
   },
   "outputs": [],
   "source": [
    "# Final Gradient Boosting\n",
    "num_tree = 1000\n",
    "max_depth = 5\n",
    "learn_rate = 0.05\n",
    "max_feature = 5\n",
    "min_samples_leaf = 30\n",
    "min_samples_split = 500\n",
    "\n",
    "\n",
    "gbm = GradientBoostingClassifier(learning_rate=learn_rate, n_estimators =num_tree,\n",
    "                                 max_depth=max_depth, max_features=max_feature,\n",
    "                                 min_samples_split=min_samples_split, \n",
    "                                 min_samples_leaf=min_samples_leaf)\n",
    "gbm.fit(X_train,y_train)\n",
    "\n",
    "train_table = final_results(X_train, y_train, gbm)\n",
    "test_table = final_results(X_test, y_test, gbm)\n",
    "oot_table = final_results(oot_x, oot_y, gbm)"
   ]
  },
  {
   "cell_type": "code",
   "execution_count": 16,
   "id": "minor-function",
   "metadata": {
    "ExecuteTime": {
     "end_time": "2021-03-23T22:23:26.223762Z",
     "start_time": "2021-03-23T22:23:26.211347Z"
    }
   },
   "outputs": [],
   "source": [
    "# create a function to generate final output\n",
    "def report_table(df):\n",
    "    # split the table into 100 groups\n",
    "    df = df.reset_index()\n",
    "    group_size = math.ceil(len(df)/100)\n",
    "    lst = [df.iloc[i:i+group_size] for i in range(0,len(df)-group_size+1,group_size)]\n",
    "    n = group_size*99\n",
    "    lst.append(df.iloc[n:])\n",
    "    \n",
    "    # calculate summary statistics\n",
    "    output = pd.DataFrame()\n",
    "    for i in range(0,100):\n",
    "        data = lst[i]\n",
    "        output.loc[i,'Population Bin %'] = int(i+1)\n",
    "        output.loc[i, '# Records'] = len(data)\n",
    "        output.loc[i, '# Goods'] = len(data[data.fraud_label==0])\n",
    "        output.loc[i, '# Bads'] = len(data[data.fraud_label==1])\n",
    "        \n",
    "    output['% Goods'] = round(output['# Goods']/output['# Records'],4)\n",
    "    output['% Bads'] = round(output['# Bads']/output['# Records'],4)\n",
    "    \n",
    "    for i in range(0,100):\n",
    "        if i == 0:\n",
    "            output.loc[i,'Total # Records'] = output.loc[i,'# Records']\n",
    "            output.loc[i,'Cumulative Goods'] = output.loc[i,'# Goods']\n",
    "            output.loc[i,'Cumulative Bads'] = output.loc[i,'# Bads']\n",
    "        else:\n",
    "            output.loc[i,'Total # Records'] = output.loc[i-1,'Total # Records'] + output.loc[i,'# Records']\n",
    "            output.loc[i,'Cumulative Goods'] = output.loc[i-1,'Cumulative Goods'] + output.loc[i,'# Goods']\n",
    "            output.loc[i,'Cumulative Bads'] = output.loc[i-1,'Cumulative Bads'] + output.loc[i,'# Bads']\n",
    "    \n",
    "    total_goods = output['# Goods'].sum()\n",
    "    total_bads = output['# Bads'].sum()\n",
    "    \n",
    "    output['Cumulative % Goods'] = round(output['Cumulative Goods']/total_goods,4)\n",
    "    output['Cumulative % Bads (FDR)'] = round(output['Cumulative Bads']/total_bads,4)\n",
    "    \n",
    "    output['KS Score'] = round((output['Cumulative % Bads (FDR)']-output['Cumulative % Goods'])*100,2)\n",
    "    output['FPR'] = round(output['Cumulative Goods']/output['Cumulative Bads'],2)\n",
    "    \n",
    "    return output"
   ]
  },
  {
   "cell_type": "code",
   "execution_count": 17,
   "id": "immune-meter",
   "metadata": {
    "ExecuteTime": {
     "end_time": "2021-03-23T22:23:30.204367Z",
     "start_time": "2021-03-23T22:23:29.308471Z"
    }
   },
   "outputs": [],
   "source": [
    "# get all 3 reports\n",
    "train_report = report_table(train_table)\n",
    "test_report =report_table(test_table)\n",
    "oot_report = report_table(oot_table)"
   ]
  },
  {
   "cell_type": "code",
   "execution_count": 18,
   "id": "graphic-hamilton",
   "metadata": {
    "ExecuteTime": {
     "end_time": "2021-03-23T22:23:31.045672Z",
     "start_time": "2021-03-23T22:23:31.030028Z"
    }
   },
   "outputs": [
    {
     "data": {
      "text/html": [
       "<div>\n",
       "<style scoped>\n",
       "    .dataframe tbody tr th:only-of-type {\n",
       "        vertical-align: middle;\n",
       "    }\n",
       "\n",
       "    .dataframe tbody tr th {\n",
       "        vertical-align: top;\n",
       "    }\n",
       "\n",
       "    .dataframe thead th {\n",
       "        text-align: right;\n",
       "    }\n",
       "</style>\n",
       "<table border=\"1\" class=\"dataframe\">\n",
       "  <thead>\n",
       "    <tr style=\"text-align: right;\">\n",
       "      <th></th>\n",
       "      <th>Population Bin %</th>\n",
       "      <th># Records</th>\n",
       "      <th># Goods</th>\n",
       "      <th># Bads</th>\n",
       "      <th>% Goods</th>\n",
       "      <th>% Bads</th>\n",
       "      <th>Total # Records</th>\n",
       "      <th>Cumulative Goods</th>\n",
       "      <th>Cumulative Bads</th>\n",
       "      <th>Cumulative % Goods</th>\n",
       "      <th>Cumulative % Bads (FDR)</th>\n",
       "      <th>KS Score</th>\n",
       "      <th>FPR</th>\n",
       "    </tr>\n",
       "  </thead>\n",
       "  <tbody>\n",
       "    <tr>\n",
       "      <th>0</th>\n",
       "      <td>1.0</td>\n",
       "      <td>5963.0</td>\n",
       "      <td>1274.0</td>\n",
       "      <td>4689.0</td>\n",
       "      <td>0.2137</td>\n",
       "      <td>0.7863</td>\n",
       "      <td>5963.0</td>\n",
       "      <td>1274.0</td>\n",
       "      <td>4689.0</td>\n",
       "      <td>0.0022</td>\n",
       "      <td>0.5445</td>\n",
       "      <td>54.23</td>\n",
       "      <td>0.27</td>\n",
       "    </tr>\n",
       "    <tr>\n",
       "      <th>1</th>\n",
       "      <td>2.0</td>\n",
       "      <td>5963.0</td>\n",
       "      <td>5713.0</td>\n",
       "      <td>250.0</td>\n",
       "      <td>0.9581</td>\n",
       "      <td>0.0419</td>\n",
       "      <td>11926.0</td>\n",
       "      <td>6987.0</td>\n",
       "      <td>4939.0</td>\n",
       "      <td>0.0119</td>\n",
       "      <td>0.5735</td>\n",
       "      <td>56.16</td>\n",
       "      <td>1.41</td>\n",
       "    </tr>\n",
       "    <tr>\n",
       "      <th>2</th>\n",
       "      <td>3.0</td>\n",
       "      <td>5963.0</td>\n",
       "      <td>5886.0</td>\n",
       "      <td>77.0</td>\n",
       "      <td>0.9871</td>\n",
       "      <td>0.0129</td>\n",
       "      <td>17889.0</td>\n",
       "      <td>12873.0</td>\n",
       "      <td>5016.0</td>\n",
       "      <td>0.0219</td>\n",
       "      <td>0.5824</td>\n",
       "      <td>56.05</td>\n",
       "      <td>2.57</td>\n",
       "    </tr>\n",
       "  </tbody>\n",
       "</table>\n",
       "</div>"
      ],
      "text/plain": [
       "   Population Bin %  # Records  # Goods  # Bads  % Goods  % Bads  \\\n",
       "0               1.0     5963.0   1274.0  4689.0   0.2137  0.7863   \n",
       "1               2.0     5963.0   5713.0   250.0   0.9581  0.0419   \n",
       "2               3.0     5963.0   5886.0    77.0   0.9871  0.0129   \n",
       "\n",
       "   Total # Records  Cumulative Goods  Cumulative Bads  Cumulative % Goods  \\\n",
       "0           5963.0            1274.0           4689.0              0.0022   \n",
       "1          11926.0            6987.0           4939.0              0.0119   \n",
       "2          17889.0           12873.0           5016.0              0.0219   \n",
       "\n",
       "   Cumulative % Bads (FDR)  KS Score   FPR  \n",
       "0                   0.5445     54.23  0.27  \n",
       "1                   0.5735     56.16  1.41  \n",
       "2                   0.5824     56.05  2.57  "
      ]
     },
     "execution_count": 18,
     "metadata": {},
     "output_type": "execute_result"
    }
   ],
   "source": [
    "train_report.head(3)"
   ]
  },
  {
   "cell_type": "code",
   "execution_count": 19,
   "id": "active-platinum",
   "metadata": {
    "ExecuteTime": {
     "end_time": "2021-03-23T22:23:34.489994Z",
     "start_time": "2021-03-23T22:23:34.474470Z"
    }
   },
   "outputs": [
    {
     "data": {
      "text/html": [
       "<div>\n",
       "<style scoped>\n",
       "    .dataframe tbody tr th:only-of-type {\n",
       "        vertical-align: middle;\n",
       "    }\n",
       "\n",
       "    .dataframe tbody tr th {\n",
       "        vertical-align: top;\n",
       "    }\n",
       "\n",
       "    .dataframe thead th {\n",
       "        text-align: right;\n",
       "    }\n",
       "</style>\n",
       "<table border=\"1\" class=\"dataframe\">\n",
       "  <thead>\n",
       "    <tr style=\"text-align: right;\">\n",
       "      <th></th>\n",
       "      <th>Population Bin %</th>\n",
       "      <th># Records</th>\n",
       "      <th># Goods</th>\n",
       "      <th># Bads</th>\n",
       "      <th>% Goods</th>\n",
       "      <th>% Bads</th>\n",
       "      <th>Total # Records</th>\n",
       "      <th>Cumulative Goods</th>\n",
       "      <th>Cumulative Bads</th>\n",
       "      <th>Cumulative % Goods</th>\n",
       "      <th>Cumulative % Bads (FDR)</th>\n",
       "      <th>KS Score</th>\n",
       "      <th>FPR</th>\n",
       "    </tr>\n",
       "  </thead>\n",
       "  <tbody>\n",
       "    <tr>\n",
       "      <th>0</th>\n",
       "      <td>1.0</td>\n",
       "      <td>1988.0</td>\n",
       "      <td>462.0</td>\n",
       "      <td>1526.0</td>\n",
       "      <td>0.2324</td>\n",
       "      <td>0.7676</td>\n",
       "      <td>1988.0</td>\n",
       "      <td>462.0</td>\n",
       "      <td>1526.0</td>\n",
       "      <td>0.0024</td>\n",
       "      <td>0.5310</td>\n",
       "      <td>52.86</td>\n",
       "      <td>0.30</td>\n",
       "    </tr>\n",
       "    <tr>\n",
       "      <th>1</th>\n",
       "      <td>2.0</td>\n",
       "      <td>1988.0</td>\n",
       "      <td>1900.0</td>\n",
       "      <td>88.0</td>\n",
       "      <td>0.9557</td>\n",
       "      <td>0.0443</td>\n",
       "      <td>3976.0</td>\n",
       "      <td>2362.0</td>\n",
       "      <td>1614.0</td>\n",
       "      <td>0.0121</td>\n",
       "      <td>0.5616</td>\n",
       "      <td>54.95</td>\n",
       "      <td>1.46</td>\n",
       "    </tr>\n",
       "    <tr>\n",
       "      <th>2</th>\n",
       "      <td>3.0</td>\n",
       "      <td>1988.0</td>\n",
       "      <td>1967.0</td>\n",
       "      <td>21.0</td>\n",
       "      <td>0.9894</td>\n",
       "      <td>0.0106</td>\n",
       "      <td>5964.0</td>\n",
       "      <td>4329.0</td>\n",
       "      <td>1635.0</td>\n",
       "      <td>0.0221</td>\n",
       "      <td>0.5689</td>\n",
       "      <td>54.68</td>\n",
       "      <td>2.65</td>\n",
       "    </tr>\n",
       "  </tbody>\n",
       "</table>\n",
       "</div>"
      ],
      "text/plain": [
       "   Population Bin %  # Records  # Goods  # Bads  % Goods  % Bads  \\\n",
       "0               1.0     1988.0    462.0  1526.0   0.2324  0.7676   \n",
       "1               2.0     1988.0   1900.0    88.0   0.9557  0.0443   \n",
       "2               3.0     1988.0   1967.0    21.0   0.9894  0.0106   \n",
       "\n",
       "   Total # Records  Cumulative Goods  Cumulative Bads  Cumulative % Goods  \\\n",
       "0           1988.0             462.0           1526.0              0.0024   \n",
       "1           3976.0            2362.0           1614.0              0.0121   \n",
       "2           5964.0            4329.0           1635.0              0.0221   \n",
       "\n",
       "   Cumulative % Bads (FDR)  KS Score   FPR  \n",
       "0                   0.5310     52.86  0.30  \n",
       "1                   0.5616     54.95  1.46  \n",
       "2                   0.5689     54.68  2.65  "
      ]
     },
     "execution_count": 19,
     "metadata": {},
     "output_type": "execute_result"
    }
   ],
   "source": [
    "test_report.head(3)"
   ]
  },
  {
   "cell_type": "code",
   "execution_count": 20,
   "id": "impressed-parallel",
   "metadata": {
    "ExecuteTime": {
     "end_time": "2021-03-23T22:23:36.770724Z",
     "start_time": "2021-03-23T22:23:36.755528Z"
    }
   },
   "outputs": [
    {
     "data": {
      "text/html": [
       "<div>\n",
       "<style scoped>\n",
       "    .dataframe tbody tr th:only-of-type {\n",
       "        vertical-align: middle;\n",
       "    }\n",
       "\n",
       "    .dataframe tbody tr th {\n",
       "        vertical-align: top;\n",
       "    }\n",
       "\n",
       "    .dataframe thead th {\n",
       "        text-align: right;\n",
       "    }\n",
       "</style>\n",
       "<table border=\"1\" class=\"dataframe\">\n",
       "  <thead>\n",
       "    <tr style=\"text-align: right;\">\n",
       "      <th></th>\n",
       "      <th>Population Bin %</th>\n",
       "      <th># Records</th>\n",
       "      <th># Goods</th>\n",
       "      <th># Bads</th>\n",
       "      <th>% Goods</th>\n",
       "      <th>% Bads</th>\n",
       "      <th>Total # Records</th>\n",
       "      <th>Cumulative Goods</th>\n",
       "      <th>Cumulative Bads</th>\n",
       "      <th>Cumulative % Goods</th>\n",
       "      <th>Cumulative % Bads (FDR)</th>\n",
       "      <th>KS Score</th>\n",
       "      <th>FPR</th>\n",
       "    </tr>\n",
       "  </thead>\n",
       "  <tbody>\n",
       "    <tr>\n",
       "      <th>0</th>\n",
       "      <td>1.0</td>\n",
       "      <td>1665.0</td>\n",
       "      <td>434.0</td>\n",
       "      <td>1231.0</td>\n",
       "      <td>0.2607</td>\n",
       "      <td>0.7393</td>\n",
       "      <td>1665.0</td>\n",
       "      <td>434.0</td>\n",
       "      <td>1231.0</td>\n",
       "      <td>0.0026</td>\n",
       "      <td>0.5159</td>\n",
       "      <td>51.33</td>\n",
       "      <td>0.35</td>\n",
       "    </tr>\n",
       "    <tr>\n",
       "      <th>1</th>\n",
       "      <td>2.0</td>\n",
       "      <td>1665.0</td>\n",
       "      <td>1589.0</td>\n",
       "      <td>76.0</td>\n",
       "      <td>0.9544</td>\n",
       "      <td>0.0456</td>\n",
       "      <td>3330.0</td>\n",
       "      <td>2023.0</td>\n",
       "      <td>1307.0</td>\n",
       "      <td>0.0123</td>\n",
       "      <td>0.5478</td>\n",
       "      <td>53.55</td>\n",
       "      <td>1.55</td>\n",
       "    </tr>\n",
       "    <tr>\n",
       "      <th>2</th>\n",
       "      <td>3.0</td>\n",
       "      <td>1665.0</td>\n",
       "      <td>1646.0</td>\n",
       "      <td>19.0</td>\n",
       "      <td>0.9886</td>\n",
       "      <td>0.0114</td>\n",
       "      <td>4995.0</td>\n",
       "      <td>3669.0</td>\n",
       "      <td>1326.0</td>\n",
       "      <td>0.0224</td>\n",
       "      <td>0.5557</td>\n",
       "      <td>53.33</td>\n",
       "      <td>2.77</td>\n",
       "    </tr>\n",
       "  </tbody>\n",
       "</table>\n",
       "</div>"
      ],
      "text/plain": [
       "   Population Bin %  # Records  # Goods  # Bads  % Goods  % Bads  \\\n",
       "0               1.0     1665.0    434.0  1231.0   0.2607  0.7393   \n",
       "1               2.0     1665.0   1589.0    76.0   0.9544  0.0456   \n",
       "2               3.0     1665.0   1646.0    19.0   0.9886  0.0114   \n",
       "\n",
       "   Total # Records  Cumulative Goods  Cumulative Bads  Cumulative % Goods  \\\n",
       "0           1665.0             434.0           1231.0              0.0026   \n",
       "1           3330.0            2023.0           1307.0              0.0123   \n",
       "2           4995.0            3669.0           1326.0              0.0224   \n",
       "\n",
       "   Cumulative % Bads (FDR)  KS Score   FPR  \n",
       "0                   0.5159     51.33  0.35  \n",
       "1                   0.5478     53.55  1.55  \n",
       "2                   0.5557     53.33  2.77  "
      ]
     },
     "execution_count": 20,
     "metadata": {},
     "output_type": "execute_result"
    }
   ],
   "source": [
    "oot_report.head(3)"
   ]
  },
  {
   "cell_type": "code",
   "execution_count": 21,
   "id": "diverse-length",
   "metadata": {
    "ExecuteTime": {
     "end_time": "2021-03-23T22:23:39.605492Z",
     "start_time": "2021-03-23T22:23:39.446582Z"
    }
   },
   "outputs": [
    {
     "data": {
      "text/html": [
       "<div>\n",
       "<style scoped>\n",
       "    .dataframe tbody tr th:only-of-type {\n",
       "        vertical-align: middle;\n",
       "    }\n",
       "\n",
       "    .dataframe tbody tr th {\n",
       "        vertical-align: top;\n",
       "    }\n",
       "\n",
       "    .dataframe thead th {\n",
       "        text-align: right;\n",
       "    }\n",
       "</style>\n",
       "<table border=\"1\" class=\"dataframe\">\n",
       "  <thead>\n",
       "    <tr style=\"text-align: right;\">\n",
       "      <th></th>\n",
       "      <th>Data</th>\n",
       "      <th># Records</th>\n",
       "      <th># Goods</th>\n",
       "      <th># Bads</th>\n",
       "      <th>Fraud Rate</th>\n",
       "    </tr>\n",
       "  </thead>\n",
       "  <tbody>\n",
       "    <tr>\n",
       "      <th>0</th>\n",
       "      <td>Training</td>\n",
       "      <td>596247</td>\n",
       "      <td>587635</td>\n",
       "      <td>8612</td>\n",
       "      <td>0.014444</td>\n",
       "    </tr>\n",
       "    <tr>\n",
       "      <th>1</th>\n",
       "      <td>Testing</td>\n",
       "      <td>198749</td>\n",
       "      <td>195875</td>\n",
       "      <td>2874</td>\n",
       "      <td>0.014460</td>\n",
       "    </tr>\n",
       "    <tr>\n",
       "      <th>2</th>\n",
       "      <td>OOT</td>\n",
       "      <td>166493</td>\n",
       "      <td>164107</td>\n",
       "      <td>2386</td>\n",
       "      <td>0.014331</td>\n",
       "    </tr>\n",
       "  </tbody>\n",
       "</table>\n",
       "</div>"
      ],
      "text/plain": [
       "       Data # Records # Goods # Bads  Fraud Rate\n",
       "0  Training    596247  587635   8612    0.014444\n",
       "1   Testing    198749  195875   2874    0.014460\n",
       "2       OOT    166493  164107   2386    0.014331"
      ]
     },
     "execution_count": 21,
     "metadata": {},
     "output_type": "execute_result"
    }
   ],
   "source": [
    "# overall summary table\n",
    "summary_table = pd.DataFrame(columns=['Data','# Records', '# Goods', '# Bads', 'Fraud Rate'])\n",
    "summary_table = summary_table.append({'Data':'Training',\n",
    "                      '# Records':len(train_table), \n",
    "                      '# Goods':len(train_table[train_table.fraud_label==0]), \n",
    "                      '# Bads':len(train_table[train_table.fraud_label==1]), \n",
    "                      'Fraud Rate':len(train_table[train_table.fraud_label==1])/len(train_table)},\n",
    "                     {'Data':'Testing',\n",
    "                      '# Records':len(test_table), \n",
    "                      '# Goods':len(test_table[test_table.fraud_label==0]), \n",
    "                      '# Bads':len(test_table[test_table.fraud_label==1]), \n",
    "                      'Fraud Rate':len(test_table[test_table.fraud_label==1])/len(test_table)},\n",
    "                     {'Data':'OOT',\n",
    "                      '# Records':len(oot_table), \n",
    "                      '# Goods':len(oot_table[oot_table.fraud_label==0]), \n",
    "                      '# Bads':len(oot_table[oot_table.fraud_label==1]), \n",
    "                      'Fraud Rate':len(oot_table[oot_table.fraud_label==1])/len(oot_table)})\n",
    "summary_table = summary_table.append({'Data':'Testing',\n",
    "                      '# Records':len(test_table), \n",
    "                      '# Goods':len(test_table[test_table.fraud_label==0]), \n",
    "                      '# Bads':len(test_table[test_table.fraud_label==1]), \n",
    "                      'Fraud Rate':len(test_table[test_table.fraud_label==1])/len(test_table)},\n",
    "                    ignore_index=True)\n",
    "summary_table = summary_table.append({'Data':'OOT',\n",
    "                      '# Records':len(oot_table), \n",
    "                      '# Goods':len(oot_table[oot_table.fraud_label==0]), \n",
    "                      '# Bads':len(oot_table[oot_table.fraud_label==1]), \n",
    "                      'Fraud Rate':len(oot_table[oot_table.fraud_label==1])/len(oot_table)},\n",
    "                    ignore_index=True)\n",
    "summary_table"
   ]
  },
  {
   "cell_type": "code",
   "execution_count": 23,
   "id": "strange-creation",
   "metadata": {
    "ExecuteTime": {
     "end_time": "2021-03-23T22:23:52.443807Z",
     "start_time": "2021-03-23T22:23:52.353357Z"
    }
   },
   "outputs": [],
   "source": [
    "# export to excel\n",
    "train_report.to_excel('train_report.xlsx')\n",
    "test_report.to_excel('test_report.xlsx')\n",
    "oot_report.to_excel('oot_report.xlsx')\n",
    "summary_table.to_excel('high_level_summary.xlsx')"
   ]
  },
  {
   "cell_type": "code",
   "execution_count": 15,
   "id": "satellite-termination",
   "metadata": {
    "ExecuteTime": {
     "end_time": "2021-03-23T22:02:21.572630Z",
     "start_time": "2021-03-23T22:02:21.567870Z"
    }
   },
   "outputs": [
    {
     "name": "stdout",
     "output_type": "stream",
     "text": [
      "Total Time: 0:03:46.984868\n"
     ]
    }
   ],
   "source": [
    "print('Total Time:', datetime.now()-start_time)"
   ]
  },
  {
   "cell_type": "markdown",
   "id": "loaded-chrome",
   "metadata": {
    "heading_collapsed": true
   },
   "source": [
    "### SMOTE (Not Using)"
   ]
  },
  {
   "cell_type": "code",
   "execution_count": null,
   "id": "qualified-review",
   "metadata": {
    "ExecuteTime": {
     "end_time": "2021-03-23T04:37:22.015181Z",
     "start_time": "2021-03-23T04:24:19.799190Z"
    },
    "hidden": true
   },
   "outputs": [],
   "source": [
    "# Graident Boosting Using SMOTE\n",
    "num_tree = 1000\n",
    "max_depth = 5\n",
    "learn_rate = 0.05\n",
    "max_feature = 5\n",
    "min_samples_leaf = 30\n",
    "min_samples_split = 500\n",
    "\n",
    "\n",
    "#SMOTE\n",
    "os = SMOTE()\n",
    "columns = X.columns\n",
    "os_data_X,os_data_y=os.fit_resample(X_train, y_train)\n",
    "os_data_X = pd.DataFrame(data=os_data_X,columns=columns)\n",
    "\n",
    "\n",
    "train_result = []\n",
    "test_result = []\n",
    "oot_result = []\n",
    "\n",
    "gbm = GradientBoostingClassifier(learning_rate=learn_rate, n_estimators =num_tree,\n",
    "                                 max_depth=max_depth, max_features=max_feature,\n",
    "                                 min_samples_split=min_samples_split, \n",
    "                                 min_samples_leaf=min_samples_leaf)\n",
    "gbm.fit(os_data_X,os_data_y)\n",
    "\n",
    "train_result.append(fdr_cal(X_train, y_train, gbm))\n",
    "test_result.append(fdr_cal(X_test, y_test, gbm))\n",
    "oot_result.append(fdr_cal(oot_x, oot_y, gbm))\n",
    "\n",
    "train_avg = np.mean(train_result)\n",
    "test_avg = np.mean(test_result)\n",
    "oot_avg = np.mean(oot_result)"
   ]
  },
  {
   "cell_type": "code",
   "execution_count": null,
   "id": "olympic-manitoba",
   "metadata": {
    "ExecuteTime": {
     "end_time": "2021-03-23T05:03:03.391520Z",
     "start_time": "2021-03-23T05:03:03.388407Z"
    },
    "hidden": true
   },
   "outputs": [],
   "source": [
    "print('SMOTE Train Average FDR@3%:', train_avg)\n",
    "print('SMOTE Test Average FDR@3%:', test_avg)\n",
    "print('SMOTE OOT Average FDR@3%:', oot_avg)"
   ]
  },
  {
   "cell_type": "code",
   "execution_count": null,
   "id": "british-yemen",
   "metadata": {
    "ExecuteTime": {
     "end_time": "2021-03-23T04:37:22.026261Z",
     "start_time": "2021-03-23T04:37:22.023507Z"
    },
    "hidden": true
   },
   "outputs": [],
   "source": [
    "print('Total Time:', datetime.now()-start_time)"
   ]
  },
  {
   "cell_type": "code",
   "execution_count": null,
   "id": "freelance-florist",
   "metadata": {
    "hidden": true
   },
   "outputs": [],
   "source": []
  },
  {
   "cell_type": "code",
   "execution_count": null,
   "id": "sealed-speaking",
   "metadata": {
    "hidden": true
   },
   "outputs": [],
   "source": []
  }
 ],
 "metadata": {
  "kernelspec": {
   "display_name": "Python 3",
   "language": "python",
   "name": "python3"
  },
  "language_info": {
   "codemirror_mode": {
    "name": "ipython",
    "version": 3
   },
   "file_extension": ".py",
   "mimetype": "text/x-python",
   "name": "python",
   "nbconvert_exporter": "python",
   "pygments_lexer": "ipython3",
   "version": "3.8.3"
  }
 },
 "nbformat": 4,
 "nbformat_minor": 5
}
