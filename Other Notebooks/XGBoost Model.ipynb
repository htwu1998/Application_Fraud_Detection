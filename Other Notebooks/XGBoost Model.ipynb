{
 "cells": [
  {
   "cell_type": "code",
   "execution_count": 1,
   "id": "marked-livestock",
   "metadata": {
    "ExecuteTime": {
     "end_time": "2021-03-24T06:33:43.451047Z",
     "start_time": "2021-03-24T06:33:42.653104Z"
    }
   },
   "outputs": [
    {
     "name": "stdout",
     "output_type": "stream",
     "text": [
      "LOAD DURATION: 0:00:00.793367\n"
     ]
    }
   ],
   "source": [
    "# Load libraries\n",
    "import datetime as dt\n",
    "from datetime import datetime\n",
    "import time \n",
    "import calendar\n",
    "start_time = datetime.now()\n",
    "\n",
    "import pandas as pd\n",
    "import numpy as np\n",
    "\n",
    "import scipy.stats as sps\n",
    "import random\n",
    "\n",
    "from sklearn.model_selection import train_test_split\n",
    "from sklearn.model_selection import KFold\n",
    "\n",
    "from xgboost import XGBClassifier\n",
    "\n",
    "\n",
    "print('LOAD DURATION:',datetime.now() - start_time)"
   ]
  },
  {
   "cell_type": "code",
   "execution_count": 2,
   "id": "musical-friendly",
   "metadata": {
    "ExecuteTime": {
     "end_time": "2021-03-24T06:33:45.133595Z",
     "start_time": "2021-03-24T06:33:43.453140Z"
    }
   },
   "outputs": [
    {
     "name": "stdout",
     "output_type": "stream",
     "text": [
      "CPU times: user 1.38 s, sys: 297 ms, total: 1.67 s\n",
      "Wall time: 1.68 s\n"
     ]
    }
   ],
   "source": [
    "%%time\n",
    "# load the data\n",
    "df = pd.read_csv('train_test.csv')\n",
    "oot = pd.read_csv('oot.csv')"
   ]
  },
  {
   "cell_type": "code",
   "execution_count": 3,
   "id": "egyptian-sword",
   "metadata": {
    "ExecuteTime": {
     "end_time": "2021-03-24T06:33:45.269731Z",
     "start_time": "2021-03-24T06:33:45.139013Z"
    }
   },
   "outputs": [],
   "source": [
    "X = df.drop(columns=['fraud_label'])\n",
    "y = df[['fraud_label']]\n",
    "\n",
    "oot_x = oot.drop(columns=['fraud_label'])\n",
    "oot_y = oot['fraud_label']"
   ]
  },
  {
   "cell_type": "code",
   "execution_count": 4,
   "id": "premium-ability",
   "metadata": {
    "ExecuteTime": {
     "end_time": "2021-03-24T06:33:45.276211Z",
     "start_time": "2021-03-24T06:33:45.271604Z"
    }
   },
   "outputs": [],
   "source": [
    "# create functions to calculate fdr\n",
    "def fdr_cal(x_data, y_data, model_choice):\n",
    "    model = model_choice\n",
    "    pop = int(round(len(x_data)*0.03))\n",
    "    result = pd.DataFrame(model.predict_proba(x_data),columns=['prob_0', 'prob_1'])\n",
    "    temp = x_data.copy()\n",
    "    temp['fraud_label'] = y_data\n",
    "    temp['prob_1']= list(result.prob_1)\n",
    "    temp0 = temp.sort_values('prob_1', ascending=False)\n",
    "    temp1 = temp0.head(pop)\n",
    "    fdr = temp1.fraud_label.sum() / y_data.sum()\n",
    "    \n",
    "    return fdr"
   ]
  },
  {
   "cell_type": "code",
   "execution_count": 5,
   "id": "optimum-envelope",
   "metadata": {
    "ExecuteTime": {
     "end_time": "2021-03-24T06:33:45.293053Z",
     "start_time": "2021-03-24T06:33:45.277886Z"
    }
   },
   "outputs": [],
   "source": [
    "# create a table to store the data\n",
    "xgb_table = pd.DataFrame()\n",
    "num_tree = [1000,1500,1800]\n",
    "max_depth = 5\n",
    "learn_rate = [0.02,0.05]\n",
    "\n",
    "\n",
    "\n",
    "i=0\n",
    "for lr in learn_rate:\n",
    "        for num in num_tree:\n",
    "                xgb_table.loc[i,'n_estimators'] = num\n",
    "                xgb_table.loc[i,'learning_rate'] = lr\n",
    "                xgb_table.loc[i,'max_depth'] = max_depth\n",
    "                i+=1\n",
    "\n",
    "\n",
    "\n",
    "xgb_table['Train'] = 0.000\n",
    "xgb_table['Test'] = 0.000\n",
    "xgb_table['OOT'] = 0.000"
   ]
  },
  {
   "cell_type": "code",
   "execution_count": 6,
   "id": "therapeutic-mumbai",
   "metadata": {
    "ExecuteTime": {
     "end_time": "2021-03-24T09:47:16.849021Z",
     "start_time": "2021-03-24T06:33:45.294877Z"
    }
   },
   "outputs": [
    {
     "name": "stdout",
     "output_type": "stream",
     "text": [
      "Iteration 30 is completed.\n",
      "Iteration 60 is completed.\n"
     ]
    }
   ],
   "source": [
    "# create a for loop to calculate all Xgboost FDR@3%\n",
    "\n",
    "# using KFold\n",
    "n_choice = 10\n",
    "kf = KFold(n_splits=n_choice)\n",
    "\n",
    "\n",
    "num_tree = [1000,1500,1800]\n",
    "max_depth = 5\n",
    "learn_rate = [0.02,0.05]\n",
    "\n",
    "i=0\n",
    "for lr in learn_rate:\n",
    "        for num in num_tree:\n",
    "            for train_index, test_index in kf.split(X):\n",
    "                X_train, X_test = X.iloc[train_index,:], X.iloc[test_index,:]\n",
    "                y_train, y_test = y.iloc[train_index, :].values.ravel(), y.iloc[test_index, :].values.ravel()\n",
    "\n",
    "                xgb = XGBClassifier(n_estimators=num, max_depth=max_depth, use_label_encoder=False,\n",
    "                         learning_rate=lr, objective='binary:logistic', verbosity = 0, n_jobs = -1)\n",
    "\n",
    "                xgb.fit(X_train,y_train)\n",
    "\n",
    "                xgb_table.loc[(xgb_table['n_estimators']==num)\\\n",
    "                              &(xgb_table['learning_rate']==lr)\\\n",
    "                              ,'Train'] += fdr_cal(X_train, y_train, xgb)\n",
    "                xgb_table.loc[(xgb_table['n_estimators']==num)\\\n",
    "                              &(xgb_table['learning_rate']==lr)\\\n",
    "                              ,'Test'] += fdr_cal(X_test, y_test, xgb)\n",
    "                xgb_table.loc[(xgb_table['n_estimators']==num)\\\n",
    "                              &(xgb_table['learning_rate']==lr)\\\n",
    "                              ,'OOT'] += fdr_cal(oot_x, oot_y, xgb)\n",
    "                i+=1\n",
    "        print(f'Iteration {i} is completed.')"
   ]
  },
  {
   "cell_type": "code",
   "execution_count": 7,
   "id": "thorough-backup",
   "metadata": {
    "ExecuteTime": {
     "end_time": "2021-03-24T09:47:16.857860Z",
     "start_time": "2021-03-24T09:47:16.852642Z"
    }
   },
   "outputs": [],
   "source": [
    "for col in ['Train','Test','OOT']:\n",
    "    xgb_table[col] = xgb_table[col]/n_choice"
   ]
  },
  {
   "cell_type": "code",
   "execution_count": 8,
   "id": "annoying-language",
   "metadata": {
    "ExecuteTime": {
     "end_time": "2021-03-24T09:47:16.936867Z",
     "start_time": "2021-03-24T09:47:16.859972Z"
    }
   },
   "outputs": [],
   "source": [
    "# save results\n",
    "xgb_table.to_excel('xgb_table_results.xlsx')"
   ]
  },
  {
   "cell_type": "code",
   "execution_count": 9,
   "id": "infectious-auditor",
   "metadata": {
    "ExecuteTime": {
     "end_time": "2021-03-24T17:46:56.222452Z",
     "start_time": "2021-03-24T17:46:56.202168Z"
    }
   },
   "outputs": [
    {
     "data": {
      "text/html": [
       "<div>\n",
       "<style scoped>\n",
       "    .dataframe tbody tr th:only-of-type {\n",
       "        vertical-align: middle;\n",
       "    }\n",
       "\n",
       "    .dataframe tbody tr th {\n",
       "        vertical-align: top;\n",
       "    }\n",
       "\n",
       "    .dataframe thead th {\n",
       "        text-align: right;\n",
       "    }\n",
       "</style>\n",
       "<table border=\"1\" class=\"dataframe\">\n",
       "  <thead>\n",
       "    <tr style=\"text-align: right;\">\n",
       "      <th></th>\n",
       "      <th>n_estimators</th>\n",
       "      <th>learning_rate</th>\n",
       "      <th>max_depth</th>\n",
       "      <th>Train</th>\n",
       "      <th>Test</th>\n",
       "      <th>OOT</th>\n",
       "    </tr>\n",
       "  </thead>\n",
       "  <tbody>\n",
       "    <tr>\n",
       "      <th>0</th>\n",
       "      <td>1000.0</td>\n",
       "      <td>0.02</td>\n",
       "      <td>5.0</td>\n",
       "      <td>0.580761</td>\n",
       "      <td>0.573975</td>\n",
       "      <td>0.555407</td>\n",
       "    </tr>\n",
       "    <tr>\n",
       "      <th>1</th>\n",
       "      <td>1500.0</td>\n",
       "      <td>0.02</td>\n",
       "      <td>5.0</td>\n",
       "      <td>0.582569</td>\n",
       "      <td>0.573564</td>\n",
       "      <td>0.555658</td>\n",
       "    </tr>\n",
       "    <tr>\n",
       "      <th>2</th>\n",
       "      <td>1800.0</td>\n",
       "      <td>0.02</td>\n",
       "      <td>5.0</td>\n",
       "      <td>0.583876</td>\n",
       "      <td>0.573646</td>\n",
       "      <td>0.555784</td>\n",
       "    </tr>\n",
       "    <tr>\n",
       "      <th>3</th>\n",
       "      <td>1000.0</td>\n",
       "      <td>0.05</td>\n",
       "      <td>5.0</td>\n",
       "      <td>0.586011</td>\n",
       "      <td>0.573299</td>\n",
       "      <td>0.555490</td>\n",
       "    </tr>\n",
       "    <tr>\n",
       "      <th>4</th>\n",
       "      <td>1500.0</td>\n",
       "      <td>0.05</td>\n",
       "      <td>5.0</td>\n",
       "      <td>0.589407</td>\n",
       "      <td>0.572744</td>\n",
       "      <td>0.554652</td>\n",
       "    </tr>\n",
       "    <tr>\n",
       "      <th>5</th>\n",
       "      <td>1800.0</td>\n",
       "      <td>0.05</td>\n",
       "      <td>5.0</td>\n",
       "      <td>0.590643</td>\n",
       "      <td>0.571720</td>\n",
       "      <td>0.554359</td>\n",
       "    </tr>\n",
       "  </tbody>\n",
       "</table>\n",
       "</div>"
      ],
      "text/plain": [
       "   n_estimators  learning_rate  max_depth     Train      Test       OOT\n",
       "0        1000.0           0.02        5.0  0.580761  0.573975  0.555407\n",
       "1        1500.0           0.02        5.0  0.582569  0.573564  0.555658\n",
       "2        1800.0           0.02        5.0  0.583876  0.573646  0.555784\n",
       "3        1000.0           0.05        5.0  0.586011  0.573299  0.555490\n",
       "4        1500.0           0.05        5.0  0.589407  0.572744  0.554652\n",
       "5        1800.0           0.05        5.0  0.590643  0.571720  0.554359"
      ]
     },
     "execution_count": 9,
     "metadata": {},
     "output_type": "execute_result"
    }
   ],
   "source": [
    "xgb_table"
   ]
  },
  {
   "cell_type": "code",
   "execution_count": null,
   "id": "beginning-price",
   "metadata": {},
   "outputs": [],
   "source": []
  }
 ],
 "metadata": {
  "kernelspec": {
   "display_name": "Python 3",
   "language": "python",
   "name": "python3"
  },
  "language_info": {
   "codemirror_mode": {
    "name": "ipython",
    "version": 3
   },
   "file_extension": ".py",
   "mimetype": "text/x-python",
   "name": "python",
   "nbconvert_exporter": "python",
   "pygments_lexer": "ipython3",
   "version": "3.8.3"
  }
 },
 "nbformat": 4,
 "nbformat_minor": 5
}
